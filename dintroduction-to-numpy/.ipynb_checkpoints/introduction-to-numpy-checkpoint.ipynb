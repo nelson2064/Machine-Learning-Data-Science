{
 "cells": [
  {
   "cell_type": "code",
   "execution_count": 1,
   "id": "e6f08846",
   "metadata": {},
   "outputs": [],
   "source": [
    "import numpy as np"
   ]
  },
  {
   "cell_type": "markdown",
   "id": "a0e0892c",
   "metadata": {},
   "source": [
    "## DataTypes & Attributes "
   ]
  },
  {
   "cell_type": "code",
   "execution_count": 81,
   "id": "64d13d70",
   "metadata": {},
   "outputs": [
    {
     "data": {
      "text/plain": [
       "array([1, 2, 3])"
      ]
     },
     "execution_count": 81,
     "metadata": {},
     "output_type": "execute_result"
    }
   ],
   "source": [
    "#1\n",
    "# NumPy's main datatype is ndarray (n dimensional array) \n",
    "a1 = np.array([1 , 2 , 3 ])\n",
    "a1"
   ]
  },
  {
   "cell_type": "code",
   "execution_count": 4,
   "id": "6110364f",
   "metadata": {},
   "outputs": [
    {
     "data": {
      "text/plain": [
       "numpy.ndarray"
      ]
     },
     "execution_count": 4,
     "metadata": {},
     "output_type": "execute_result"
    }
   ],
   "source": [
    "#2\n",
    "type(a1)"
   ]
  },
  {
   "cell_type": "code",
   "execution_count": 74,
   "id": "452fb628",
   "metadata": {},
   "outputs": [],
   "source": [
    "a2 = np.array([[1 , 2.4 , 3],\n",
    "             [4 , 5 , 6.5]])\n",
    "\n",
    "a3 = np.array([[[1 , 3 , 3 ],\n",
    "               [3 , 5 , 6],\n",
    "               [3 , 5 , 6],\n",
    "                [3 , 5 , 6]],\n",
    "               \n",
    "              [[10 , 11 , 12],\n",
    "              [13 , 14 , 15],\n",
    "               [16 , 17 , 18],\n",
    "               [3 , 5 , 6]]])"
   ]
  },
  {
   "cell_type": "code",
   "execution_count": 75,
   "id": "134ea1c7",
   "metadata": {},
   "outputs": [
    {
     "data": {
      "text/plain": [
       "array([[1. , 2.4, 3. ],\n",
       "       [4. , 5. , 6.5]])"
      ]
     },
     "execution_count": 75,
     "metadata": {},
     "output_type": "execute_result"
    }
   ],
   "source": [
    "a2"
   ]
  },
  {
   "cell_type": "code",
   "execution_count": 76,
   "id": "83b2db06",
   "metadata": {},
   "outputs": [
    {
     "data": {
      "text/plain": [
       "array([[[ 1,  3,  3],\n",
       "        [ 3,  5,  6],\n",
       "        [ 3,  5,  6],\n",
       "        [ 3,  5,  6]],\n",
       "\n",
       "       [[10, 11, 12],\n",
       "        [13, 14, 15],\n",
       "        [16, 17, 18],\n",
       "        [ 3,  5,  6]]])"
      ]
     },
     "execution_count": 76,
     "metadata": {},
     "output_type": "execute_result"
    }
   ],
   "source": [
    "a3"
   ]
  },
  {
   "cell_type": "code",
   "execution_count": 8,
   "id": "b2aebd22",
   "metadata": {},
   "outputs": [
    {
     "data": {
      "text/plain": [
       "(3,)"
      ]
     },
     "execution_count": 8,
     "metadata": {},
     "output_type": "execute_result"
    }
   ],
   "source": [
    "#2\n",
    "a1.shape"
   ]
  },
  {
   "cell_type": "code",
   "execution_count": 9,
   "id": "314bc799",
   "metadata": {},
   "outputs": [
    {
     "data": {
      "text/plain": [
       "(2, 3)"
      ]
     },
     "execution_count": 9,
     "metadata": {},
     "output_type": "execute_result"
    }
   ],
   "source": [
    " a2.shape"
   ]
  },
  {
   "cell_type": "code",
   "execution_count": 10,
   "id": "a442233a",
   "metadata": {},
   "outputs": [
    {
     "data": {
      "text/plain": [
       "(2, 3, 3)"
      ]
     },
     "execution_count": 10,
     "metadata": {},
     "output_type": "execute_result"
    }
   ],
   "source": [
    "a3.shape"
   ]
  },
  {
   "cell_type": "code",
   "execution_count": 13,
   "id": "7f90e1e5",
   "metadata": {},
   "outputs": [
    {
     "data": {
      "text/plain": [
       "1"
      ]
     },
     "execution_count": 13,
     "metadata": {},
     "output_type": "execute_result"
    }
   ],
   "source": [
    "#3\n",
    "a1.ndim"
   ]
  },
  {
   "cell_type": "code",
   "execution_count": 14,
   "id": "22b7b9d4",
   "metadata": {},
   "outputs": [
    {
     "data": {
      "text/plain": [
       "3"
      ]
     },
     "execution_count": 14,
     "metadata": {},
     "output_type": "execute_result"
    }
   ],
   "source": [
    "a3.ndim"
   ]
  },
  {
   "cell_type": "code",
   "execution_count": 15,
   "id": "51571e74",
   "metadata": {},
   "outputs": [
    {
     "data": {
      "text/plain": [
       "2"
      ]
     },
     "execution_count": 15,
     "metadata": {},
     "output_type": "execute_result"
    }
   ],
   "source": [
    "a2.ndim"
   ]
  },
  {
   "cell_type": "code",
   "execution_count": 16,
   "id": "856a3494",
   "metadata": {},
   "outputs": [
    {
     "data": {
      "text/plain": [
       "(1, 2, 3)"
      ]
     },
     "execution_count": 16,
     "metadata": {},
     "output_type": "execute_result"
    }
   ],
   "source": [
    "a1.ndim , a2.ndim , a3.ndim"
   ]
  },
  {
   "cell_type": "markdown",
   "id": "362f046f",
   "metadata": {},
   "source": [
    "## whatever data you're working with, it somehow gets turned into numbers and then a machine learning algorithm will find patterns in these numbers "
   ]
  },
  {
   "cell_type": "code",
   "execution_count": 17,
   "id": "1dfc4329",
   "metadata": {},
   "outputs": [
    {
     "data": {
      "text/plain": [
       "(dtype('int32'), dtype('float64'), dtype('int32'))"
      ]
     },
     "execution_count": 17,
     "metadata": {},
     "output_type": "execute_result"
    }
   ],
   "source": [
    "#4\n",
    "a1.dtype , a2.dtype , a3.dtype"
   ]
  },
  {
   "cell_type": "code",
   "execution_count": 18,
   "id": "afd31b35",
   "metadata": {},
   "outputs": [
    {
     "data": {
      "text/plain": [
       "(3, 6, 18)"
      ]
     },
     "execution_count": 18,
     "metadata": {},
     "output_type": "execute_result"
    }
   ],
   "source": [
    "#5\n",
    "a1.size , a2.size , a3.size"
   ]
  },
  {
   "cell_type": "code",
   "execution_count": 19,
   "id": "d372316e",
   "metadata": {},
   "outputs": [
    {
     "data": {
      "text/plain": [
       "(numpy.ndarray, numpy.ndarray, numpy.ndarray)"
      ]
     },
     "execution_count": 19,
     "metadata": {},
     "output_type": "execute_result"
    }
   ],
   "source": [
    "#6\n",
    "type(a1) , type(a2) , type(a3)"
   ]
  },
  {
   "cell_type": "code",
   "execution_count": 24,
   "id": "5ad6b795",
   "metadata": {},
   "outputs": [
    {
     "data": {
      "text/html": [
       "<div>\n",
       "<style scoped>\n",
       "    .dataframe tbody tr th:only-of-type {\n",
       "        vertical-align: middle;\n",
       "    }\n",
       "\n",
       "    .dataframe tbody tr th {\n",
       "        vertical-align: top;\n",
       "    }\n",
       "\n",
       "    .dataframe thead th {\n",
       "        text-align: right;\n",
       "    }\n",
       "</style>\n",
       "<table border=\"1\" class=\"dataframe\">\n",
       "  <thead>\n",
       "    <tr style=\"text-align: right;\">\n",
       "      <th></th>\n",
       "      <th>0</th>\n",
       "      <th>1</th>\n",
       "      <th>2</th>\n",
       "    </tr>\n",
       "  </thead>\n",
       "  <tbody>\n",
       "    <tr>\n",
       "      <th>0</th>\n",
       "      <td>1.0</td>\n",
       "      <td>2.4</td>\n",
       "      <td>3.0</td>\n",
       "    </tr>\n",
       "    <tr>\n",
       "      <th>1</th>\n",
       "      <td>4.0</td>\n",
       "      <td>5.0</td>\n",
       "      <td>6.5</td>\n",
       "    </tr>\n",
       "  </tbody>\n",
       "</table>\n",
       "</div>"
      ],
      "text/plain": [
       "     0    1    2\n",
       "0  1.0  2.4  3.0\n",
       "1  4.0  5.0  6.5"
      ]
     },
     "execution_count": 24,
     "metadata": {},
     "output_type": "execute_result"
    }
   ],
   "source": [
    "#so now to really exemplify Numpy being the backbone of other scientific data packages, that is  let's \n",
    "#create a dataframe form a NumPy array\n",
    "import pandas as pd\n",
    "df = pd.DataFrame(a2)\n",
    "df"
   ]
  },
  {
   "cell_type": "markdown",
   "id": "4f5f11d4",
   "metadata": {},
   "source": [
    "So this is a pandas dataframe and this is our numpy array.\n",
    "‫So essentially, no matter what's in our pandas dataframe, if it's all numbers, pandas is built on\n",
    "‫top of numpy\n",
    "‫So to represent our data as a data frame, it's just combining NumPy arrays in a formatted way.\n",
    "‫So that's a very important point to remember as well, is that once we start to get into the weeds of\n",
    "NumPy and start to work out what kind of numerical computing it can do, we can start to think, okay,"
   ]
  },
  {
   "cell_type": "markdown",
   "id": "d00442bc",
   "metadata": {},
   "source": [
    "so if we have some data and we import it in PANDAS, it's actually just a different combination umpire\n",
    "‫raise.\n",
    "‫So if we want to perform some manipulations on it, we're actually just performing manipulations on\n",
    "‫different lists of numbers.\n",
    "‫All right.\n",
    "‫That's a brief introduction to NumPy, his main data type.\n",
    "‫That's the main thing to take away from this is that Andhra, whatever array you have in numpy is of\n",
    "‫type NDI array and that pandas and other machine learning algorithm packages are built on top of numpy\n",
    "‫and machine learning is finding patterns in numpy arrays.\n",
    "‫So with that being said, let's take a little break.\n",
    "‫If you need to go back and explore, create an array of your own by trialing it out.\n",
    "‫If in doubt, run the code and I'll see you in the next video.\n",
    "\n"
   ]
  },
  {
   "cell_type": "markdown",
   "id": "1df5fd63",
   "metadata": {},
   "source": [
    "so if we have some data and we import it in PANDAS, it's actually just a different combination umpire\n",
    "‫raise.\n",
    "‫So if we want to perform some manipulations on it, we're actually just performing manipulations on\n",
    "‫different lists of numbers.\n",
    "‫All right.\n",
    "‫That's a brief introduction to NumPy, his main data type.\n",
    "‫That's the main thing to take away from this is that Andhra, whatever array you have in numpy is of\n",
    "‫type NDI array and that pandas and other machine learning algorithm packages are built on top of numpy\n",
    "‫and machine learning is finding patterns in numpy arrays.\n",
    "‫So with that being said, let's take a little break.\n",
    "‫If you need to go back and explore, create an array of your own by trialing it out.\n",
    "‫If in doubt, run the code and I'll see you in the next video.\n"
   ]
  },
  {
   "cell_type": "markdown",
   "id": "bc867a5f",
   "metadata": {},
   "source": [
    "NumPy is called the \"backbone\" of the scientific Python ecosystem because it provides a powerful and efficient array object that forms the foundation for a wide variety of other libraries, including pandas, scikit-learn, and Matplotlib. These libraries build on top of the functionality provided by NumPy to provide powerful tools for data manipulation, analysis, and visualization. The array object in NumPy allows for fast, vectorized operations and is highly optimized for performance, making it well-suited for large-scale data processing and scientific computing tasks."
   ]
  },
  {
   "cell_type": "markdown",
   "id": "0a3a1cb3",
   "metadata": {},
   "source": [
    "In my previous answer, when I said \"NumPy provides a powerful and efficient array object that forms the foundation for a wide variety of other libraries,\" I meant that the array object in NumPy is used as the basis for many other libraries in the scientific Python ecosystem. These other libraries build on top of the functionality provided by NumPy to provide additional features and tools for data manipulation, analysis, and visualization. For example, pandas uses NumPy arrays as the underlying data structure for its DataFrame and Series objects, which provide additional methods for working with data in a tabular format. Similarly, scikit-learn uses NumPy arrays as the input for its machine learning algorithms, and Matplotlib uses NumPy arrays to represent and manipulate data for plotting and visualization. In short, NumPy is an important and widely used library that provides a powerful array object that is used as a foundation for many other libraries in the scientific Python ecosystem."
   ]
  },
  {
   "cell_type": "markdown",
   "id": "399f364a",
   "metadata": {},
   "source": [
    "Yes, that's correct. The \"ndarray,\" or \"n-dimensional array,\" is the main data structure provided by NumPy and is used to store and manipulate large arrays of homogeneous data (i.e., data of the same type, such as integers or floating-point numbers). The \"n\" in \"ndarray\" refers to the fact that these arrays can have any number of dimensions, not just one or two as in traditional arrays. The ndarray is a universal array meaning it can handle a wide variety of data types, such as integers, floating-point numbers, and complex numbers, and can be used for a wide range of tasks, including mathematical and statistical operations, linear algebra, and data manipulation and transformation. The ndarray is highly optimized for performance, making it well-suited for large-scale data processing and scientific computing tasks."
   ]
  },
  {
   "cell_type": "code",
   "execution_count": null,
   "id": "fddbcac1",
   "metadata": {},
   "outputs": [],
   "source": []
  },
  {
   "cell_type": "code",
   "execution_count": null,
   "id": "eb2935ae",
   "metadata": {},
   "outputs": [],
   "source": []
  },
  {
   "cell_type": "code",
   "execution_count": null,
   "id": "217e1b49",
   "metadata": {},
   "outputs": [],
   "source": []
  },
  {
   "cell_type": "code",
   "execution_count": null,
   "id": "e5cd837e",
   "metadata": {},
   "outputs": [],
   "source": []
  },
  {
   "cell_type": "markdown",
   "id": "918eda49",
   "metadata": {},
   "source": [
    "#real starting the numpy with checking all things\n",
    "##just leaving the things that i have done up i have done agian \n",
    "##check the Anatomy of NumPy array"
   ]
  },
  {
   "cell_type": "markdown",
   "id": "39456eb6",
   "metadata": {},
   "source": [
    "## 1 -  NumPy DataTypes and Attributes"
   ]
  },
  {
   "cell_type": "code",
   "execution_count": 4,
   "id": "d15d64fd",
   "metadata": {},
   "outputs": [],
   "source": [
    "import numpy as np\n",
    "check1 = np.array([1 , 2 , 3])"
   ]
  },
  {
   "cell_type": "code",
   "execution_count": 5,
   "id": "77b378f4",
   "metadata": {},
   "outputs": [
    {
     "data": {
      "text/plain": [
       "1"
      ]
     },
     "execution_count": 5,
     "metadata": {},
     "output_type": "execute_result"
    }
   ],
   "source": [
    "#1\n",
    "check1.ndim"
   ]
  },
  {
   "cell_type": "code",
   "execution_count": 8,
   "id": "54cfa734",
   "metadata": {},
   "outputs": [],
   "source": [
    "check2 = np.array([[1 , 2 , 4],\n",
    "                  [3 , 5 ,5],\n",
    "                  [4 , 5 ,5]])"
   ]
  },
  {
   "cell_type": "code",
   "execution_count": 9,
   "id": "6d59f2f7",
   "metadata": {},
   "outputs": [
    {
     "data": {
      "text/plain": [
       "2"
      ]
     },
     "execution_count": 9,
     "metadata": {},
     "output_type": "execute_result"
    }
   ],
   "source": [
    "check2.ndim"
   ]
  },
  {
   "cell_type": "code",
   "execution_count": 57,
   "id": "8efa6e87",
   "metadata": {},
   "outputs": [],
   "source": [
    "\n",
    "\n",
    "check3 = np.array([\n",
    "    [\n",
    "        [1 , 3 , 4],\n",
    "         [1 , 3 , 4],\n",
    "         [1 , 3 , 4]\n",
    "    ],\n",
    "     [\n",
    "        [1 , 3 , 4],\n",
    "         [1 , 3 , 4],\n",
    "         [1 , 3 , 4]\n",
    "    ],\n",
    "     [\n",
    "        [1 , 3 , 4],\n",
    "         [1 , 3 , 4],\n",
    "         [1 , 3 , 4]\n",
    "    ],\n",
    "      [\n",
    "        [1 , 3 , 4],\n",
    "         [1 , 3 , 4],\n",
    "         [1 , 3 , 4]\n",
    "    ]\n",
    "    \n",
    "])"
   ]
  },
  {
   "cell_type": "code",
   "execution_count": 62,
   "id": "687557ae",
   "metadata": {},
   "outputs": [
    {
     "data": {
      "text/plain": [
       "3"
      ]
     },
     "execution_count": 62,
     "metadata": {},
     "output_type": "execute_result"
    }
   ],
   "source": [
    "check3.ndim"
   ]
  },
  {
   "cell_type": "code",
   "execution_count": 55,
   "id": "28981939",
   "metadata": {},
   "outputs": [
    {
     "data": {
      "text/plain": [
       "numpy.ndarray"
      ]
     },
     "execution_count": 55,
     "metadata": {},
     "output_type": "execute_result"
    }
   ],
   "source": [
    "#2\n",
    "type(check1)"
   ]
  },
  {
   "cell_type": "code",
   "execution_count": 64,
   "id": "53afd192",
   "metadata": {},
   "outputs": [
    {
     "data": {
      "text/plain": [
       "(3, 3, 3)"
      ]
     },
     "execution_count": 64,
     "metadata": {},
     "output_type": "execute_result"
    }
   ],
   "source": [
    "#3\n",
    "check3.shape"
   ]
  },
  {
   "cell_type": "markdown",
   "id": "ac2b93a3",
   "metadata": {},
   "source": [
    "often time with machine learning algorithm your main focus will be making sure the shape of your data that goes into machine learning algorithm lines up with the other data that you're putting in as well as the output we will see in fututre secion  \n",
    "\n",
    "#note axis = 0 refer to the number of rows axis = 1 refers to the number of column and the axis = n refers to the dimension that are beyond just rows and columns its very hard for us humans to visualise anything more than three dimesnions, but in numpy and with computer you could have as many ends as you want"
   ]
  },
  {
   "cell_type": "code",
   "execution_count": 66,
   "id": "95984c91",
   "metadata": {},
   "outputs": [
    {
     "data": {
      "text/plain": [
       "dtype('int32')"
      ]
     },
     "execution_count": 66,
     "metadata": {},
     "output_type": "execute_result"
    }
   ],
   "source": [
    "#shortform\n",
    "\n",
    "#4\n",
    "check3.dtype "
   ]
  },
  {
   "cell_type": "code",
   "execution_count": 67,
   "id": "eec31e61",
   "metadata": {},
   "outputs": [
    {
     "data": {
      "text/plain": [
       "(3, 3, 3)"
      ]
     },
     "execution_count": 67,
     "metadata": {},
     "output_type": "execute_result"
    }
   ],
   "source": [
    "check3.shape"
   ]
  },
  {
   "cell_type": "code",
   "execution_count": 68,
   "id": "bebb3fcf",
   "metadata": {},
   "outputs": [
    {
     "data": {
      "text/plain": [
       "numpy.ndarray"
      ]
     },
     "execution_count": 68,
     "metadata": {},
     "output_type": "execute_result"
    }
   ],
   "source": [
    "type(check1)"
   ]
  },
  {
   "cell_type": "code",
   "execution_count": 69,
   "id": "21c493b7",
   "metadata": {},
   "outputs": [
    {
     "data": {
      "text/plain": [
       "3"
      ]
     },
     "execution_count": 69,
     "metadata": {},
     "output_type": "execute_result"
    }
   ],
   "source": [
    "check3.ndim"
   ]
  },
  {
   "cell_type": "code",
   "execution_count": 70,
   "id": "33bb68ff",
   "metadata": {},
   "outputs": [
    {
     "data": {
      "text/plain": [
       "array([[[1, 3, 4],\n",
       "        [1, 3, 4],\n",
       "        [1, 3, 4]],\n",
       "\n",
       "       [[1, 3, 4],\n",
       "        [1, 3, 4],\n",
       "        [1, 3, 4]],\n",
       "\n",
       "       [[1, 3, 4],\n",
       "        [1, 3, 4],\n",
       "        [1, 3, 4]]])"
      ]
     },
     "execution_count": 70,
     "metadata": {},
     "output_type": "execute_result"
    }
   ],
   "source": [
    "check3"
   ]
  },
  {
   "cell_type": "code",
   "execution_count": 71,
   "id": "1d9e6830",
   "metadata": {},
   "outputs": [
    {
     "data": {
      "text/plain": [
       "27"
      ]
     },
     "execution_count": 71,
     "metadata": {},
     "output_type": "execute_result"
    }
   ],
   "source": [
    "#5\n",
    "check3.size"
   ]
  },
  {
   "cell_type": "code",
   "execution_count": 85,
   "id": "ad84c9d5",
   "metadata": {},
   "outputs": [],
   "source": [
    "t1 = np.array(\n",
    "   \n",
    "     [\n",
    "        [1 , 3 , 4] , \n",
    "         [1 , 3 , 4] , \n",
    "         [1 , 3 , 4] , \n",
    "    ]\n",
    "    \n",
    ")"
   ]
  },
  {
   "cell_type": "code",
   "execution_count": 83,
   "id": "922115f8",
   "metadata": {},
   "outputs": [],
   "source": [
    "import pandas as pd "
   ]
  },
  {
   "cell_type": "code",
   "execution_count": 86,
   "id": "434454a7",
   "metadata": {},
   "outputs": [
    {
     "data": {
      "text/html": [
       "<div>\n",
       "<style scoped>\n",
       "    .dataframe tbody tr th:only-of-type {\n",
       "        vertical-align: middle;\n",
       "    }\n",
       "\n",
       "    .dataframe tbody tr th {\n",
       "        vertical-align: top;\n",
       "    }\n",
       "\n",
       "    .dataframe thead th {\n",
       "        text-align: right;\n",
       "    }\n",
       "</style>\n",
       "<table border=\"1\" class=\"dataframe\">\n",
       "  <thead>\n",
       "    <tr style=\"text-align: right;\">\n",
       "      <th></th>\n",
       "      <th>0</th>\n",
       "      <th>1</th>\n",
       "      <th>2</th>\n",
       "    </tr>\n",
       "  </thead>\n",
       "  <tbody>\n",
       "    <tr>\n",
       "      <th>0</th>\n",
       "      <td>1</td>\n",
       "      <td>3</td>\n",
       "      <td>4</td>\n",
       "    </tr>\n",
       "    <tr>\n",
       "      <th>1</th>\n",
       "      <td>1</td>\n",
       "      <td>3</td>\n",
       "      <td>4</td>\n",
       "    </tr>\n",
       "    <tr>\n",
       "      <th>2</th>\n",
       "      <td>1</td>\n",
       "      <td>3</td>\n",
       "      <td>4</td>\n",
       "    </tr>\n",
       "  </tbody>\n",
       "</table>\n",
       "</div>"
      ],
      "text/plain": [
       "   0  1  2\n",
       "0  1  3  4\n",
       "1  1  3  4\n",
       "2  1  3  4"
      ]
     },
     "execution_count": 86,
     "metadata": {},
     "output_type": "execute_result"
    }
   ],
   "source": [
    "dataframe = pd.DataFrame(t1)\n",
    "dataframe"
   ]
  },
  {
   "cell_type": "code",
   "execution_count": null,
   "id": "6786245c",
   "metadata": {},
   "outputs": [],
   "source": []
  },
  {
   "cell_type": "code",
   "execution_count": null,
   "id": "5a74011b",
   "metadata": {},
   "outputs": [],
   "source": []
  },
  {
   "cell_type": "code",
   "execution_count": null,
   "id": "7bb6e45c",
   "metadata": {},
   "outputs": [],
   "source": []
  },
  {
   "cell_type": "code",
   "execution_count": null,
   "id": "0fd774ae",
   "metadata": {},
   "outputs": [],
   "source": []
  },
  {
   "cell_type": "markdown",
   "id": "676989fb",
   "metadata": {},
   "source": [
    "## 2 . Creating arrays"
   ]
  },
  {
   "cell_type": "code",
   "execution_count": 15,
   "id": "137835f8",
   "metadata": {},
   "outputs": [],
   "source": [
    "#in the previous section we gone through creating some line of array and it is very tedious task to type all of this  number"
   ]
  },
  {
   "cell_type": "code",
   "execution_count": 12,
   "id": "7b8c42f2",
   "metadata": {},
   "outputs": [
    {
     "data": {
      "text/plain": [
       "array([1, 2, 3])"
      ]
     },
     "execution_count": 12,
     "metadata": {},
     "output_type": "execute_result"
    }
   ],
   "source": [
    "sample_array = np.array([1 , 2 ,3])\n",
    "sample_array"
   ]
  },
  {
   "cell_type": "code",
   "execution_count": 13,
   "id": "1c56e1c1",
   "metadata": {},
   "outputs": [
    {
     "data": {
      "text/plain": [
       "dtype('int32')"
      ]
     },
     "execution_count": 13,
     "metadata": {},
     "output_type": "execute_result"
    }
   ],
   "source": [
    "#1\n",
    "sample_array.dtype"
   ]
  },
  {
   "cell_type": "code",
   "execution_count": 22,
   "id": "52260597",
   "metadata": {},
   "outputs": [],
   "source": [
    "#2 \n",
    "ones = np.ones((2 , 3))"
   ]
  },
  {
   "cell_type": "code",
   "execution_count": 23,
   "id": "13b90979",
   "metadata": {},
   "outputs": [
    {
     "data": {
      "text/plain": [
       "array([[1., 1., 1.],\n",
       "       [1., 1., 1.]])"
      ]
     },
     "execution_count": 23,
     "metadata": {},
     "output_type": "execute_result"
    }
   ],
   "source": [
    "ones"
   ]
  },
  {
   "cell_type": "code",
   "execution_count": 24,
   "id": "364f8e63",
   "metadata": {},
   "outputs": [
    {
     "data": {
      "text/plain": [
       "dtype('float64')"
      ]
     },
     "execution_count": 24,
     "metadata": {},
     "output_type": "execute_result"
    }
   ],
   "source": [
    "#3\n",
    "ones.dtype"
   ]
  },
  {
   "cell_type": "code",
   "execution_count": 25,
   "id": "1016528e",
   "metadata": {},
   "outputs": [
    {
     "data": {
      "text/plain": [
       "numpy.ndarray"
      ]
     },
     "execution_count": 25,
     "metadata": {},
     "output_type": "execute_result"
    }
   ],
   "source": [
    "#4\n",
    "type(ones)"
   ]
  },
  {
   "cell_type": "code",
   "execution_count": 26,
   "id": "4cc02bb1",
   "metadata": {},
   "outputs": [],
   "source": [
    "#5\n",
    "#you might be think why would you want zeros ones well you can imagine 0 like placeholder array may in ml you want to fill array or with initial data the data you don't know yet you create zeros just to work out the shape of the data you working with before you implement any data you could make sure your shape lined up using arrays filled with 0  \n",
    "zeros = np.zeros((2 ,3))"
   ]
  },
  {
   "cell_type": "code",
   "execution_count": 27,
   "id": "4bdbcd98",
   "metadata": {},
   "outputs": [
    {
     "data": {
      "text/plain": [
       "array([[0., 0., 0.],\n",
       "       [0., 0., 0.]])"
      ]
     },
     "execution_count": 27,
     "metadata": {},
     "output_type": "execute_result"
    }
   ],
   "source": [
    "zeros"
   ]
  },
  {
   "cell_type": "code",
   "execution_count": 29,
   "id": "768faa44",
   "metadata": {},
   "outputs": [
    {
     "data": {
      "text/plain": [
       "array([0, 1, 2, 3, 4, 5, 6, 7, 8, 9])"
      ]
     },
     "execution_count": 29,
     "metadata": {},
     "output_type": "execute_result"
    }
   ],
   "source": [
    "#6 \n",
    "#starting from 0 up to 10 with difference of 2\n",
    "\n",
    "#range_array = np.arange(0, 10 )\n",
    "range_array = np.arange(0, 10 , 2 )\n",
    "range_array"
   ]
  },
  {
   "cell_type": "code",
   "execution_count": 39,
   "id": "74259707",
   "metadata": {},
   "outputs": [
    {
     "data": {
      "text/plain": [
       "array([[0, 1, 3, 2, 1],\n",
       "       [1, 4, 1, 1, 3],\n",
       "       [1, 4, 0, 2, 2]])"
      ]
     },
     "execution_count": 39,
     "metadata": {},
     "output_type": "execute_result"
    }
   ],
   "source": [
    "#7\n",
    "#giving me a random number from 0 to 10 with 3 * 5 matrix the number from 0 to 10 is random the number is randomly given from 0 to 10 in 3 * 5 matrix\n",
    "random_array = np.random.randint(0 , 10 , size = (3,5))\n",
    "random_array"
   ]
  },
  {
   "cell_type": "code",
   "execution_count": 42,
   "id": "84d636c0",
   "metadata": {},
   "outputs": [
    {
     "data": {
      "text/plain": [
       "15"
      ]
     },
     "execution_count": 42,
     "metadata": {},
     "output_type": "execute_result"
    }
   ],
   "source": [
    "#8\n",
    "random_array.size"
   ]
  },
  {
   "cell_type": "code",
   "execution_count": 41,
   "id": "1e00d412",
   "metadata": {},
   "outputs": [
    {
     "data": {
      "text/plain": [
       "(3, 5)"
      ]
     },
     "execution_count": 41,
     "metadata": {},
     "output_type": "execute_result"
    }
   ],
   "source": [
    "#9\n",
    "random_array.shape"
   ]
  },
  {
   "cell_type": "code",
   "execution_count": 43,
   "id": "f245be1c",
   "metadata": {},
   "outputs": [
    {
     "data": {
      "text/plain": [
       "array([[0.63016659, 0.48843909, 0.99349655],\n",
       "       [0.08903268, 0.49257673, 0.14920504],\n",
       "       [0.98564129, 0.8043008 , 0.82912329],\n",
       "       [0.36235342, 0.54497861, 0.88359131],\n",
       "       [0.44727183, 0.67117016, 0.03407134]])"
      ]
     },
     "execution_count": 43,
     "metadata": {},
     "output_type": "execute_result"
    }
   ],
   "source": [
    "#10\n",
    "random_array_2 = np.random.random((5 , 3))\n",
    "random_array_2"
   ]
  },
  {
   "cell_type": "code",
   "execution_count": 44,
   "id": "bd13cce1",
   "metadata": {},
   "outputs": [
    {
     "data": {
      "text/plain": [
       "(5, 3)"
      ]
     },
     "execution_count": 44,
     "metadata": {},
     "output_type": "execute_result"
    }
   ],
   "source": [
    "random_array_2.shape"
   ]
  },
  {
   "cell_type": "code",
   "execution_count": 45,
   "id": "4ff09cfa",
   "metadata": {},
   "outputs": [
    {
     "data": {
      "text/plain": [
       "array([[0.37718042, 0.4987548 , 0.38981034],\n",
       "       [0.51691249, 0.0316926 , 0.22359917],\n",
       "       [0.64192257, 0.95733608, 0.66736531],\n",
       "       [0.27057567, 0.56842738, 0.08859766],\n",
       "       [0.947952  , 0.31591848, 0.99928649]])"
      ]
     },
     "execution_count": 45,
     "metadata": {},
     "output_type": "execute_result"
    }
   ],
   "source": [
    "#11\n",
    "                            # note you can see the anatomy of a numpy array axis = 0 means row alwasy first came in paramater and axis = 1  is column always came in 2 positon in paramater\n",
    "random_array_3 = np.random.rand(5 , 3)\n",
    "random_array_3"
   ]
  },
  {
   "cell_type": "markdown",
   "id": "65d3f9b0",
   "metadata": {},
   "source": [
    "#12\n",
    "## but if we want to share our notebook with some one else and want to them  run our cell and get exact result what we did so we can reproduce our experiments thats where numpy random seeds came in it allows us to still generate and the number random number that is reproducable"
   ]
  },
  {
   "cell_type": "code",
   "execution_count": 58,
   "id": "f495f5a3",
   "metadata": {},
   "outputs": [
    {
     "data": {
      "text/plain": [
       "array([[3, 2, 7],\n",
       "       [2, 2, 3],\n",
       "       [2, 1, 3],\n",
       "       [7, 4, 5],\n",
       "       [9, 3, 4]])"
      ]
     },
     "execution_count": 58,
     "metadata": {},
     "output_type": "execute_result"
    }
   ],
   "source": [
    "#Pseudo-random numbers\n",
    "#is that when numpy generate random  numbers they are pseudo random numbers \n",
    "#we can see with using np.random.seed()\n",
    "#when we use seed when assigning random number actually it not gona change but when we remove it start changine in each execute\n",
    "\n",
    "\n",
    "np.random.seed(seed=4534534)\n",
    "random_array_4 = np.random.randint(10, size=(5,3))\n",
    "random_array_4"
   ]
  },
  {
   "cell_type": "code",
   "execution_count": 61,
   "id": "8458a65a",
   "metadata": {},
   "outputs": [
    {
     "data": {
      "text/plain": [
       "array([[0.07630829, 0.77991879, 0.43840923],\n",
       "       [0.72346518, 0.97798951, 0.53849587],\n",
       "       [0.50112046, 0.07205113, 0.26843898],\n",
       "       [0.4998825 , 0.67923   , 0.80373904],\n",
       "       [0.38094113, 0.06593635, 0.2881456 ]])"
      ]
     },
     "execution_count": 61,
     "metadata": {},
     "output_type": "execute_result"
    }
   ],
   "source": [
    "np.random.seed(7)\n",
    "random_array_5 = np.random.random((5,3))\n",
    "random_array_5"
   ]
  },
  {
   "cell_type": "code",
   "execution_count": 64,
   "id": "27e80eb5",
   "metadata": {},
   "outputs": [
    {
     "data": {
      "text/plain": [
       "array([[0.20484909, 0.49076589, 0.37238469],\n",
       "       [0.47740115, 0.36589039, 0.83791799],\n",
       "       [0.76864751, 0.31399468, 0.57262533],\n",
       "       [0.27604905, 0.45284293, 0.35297837],\n",
       "       [0.65739946, 0.37035108, 0.45909298]])"
      ]
     },
     "execution_count": 64,
     "metadata": {},
     "output_type": "execute_result"
    }
   ],
   "source": [
    "random_array_5 = np.random.random((5,3))\n",
    "random_array_5"
   ]
  },
  {
   "cell_type": "markdown",
   "id": "093e77f3",
   "metadata": {},
   "source": [
    "# the number you see numpy generate random actually they are not actually random they are pseudo random numbersimportant take is that if we wanted to someone wanted to use our notebook generate random numbers but actually like us that reproduce our experiment exactly we sould a set random seet  "
   ]
  },
  {
   "cell_type": "code",
   "execution_count": 67,
   "id": "16df85ae",
   "metadata": {},
   "outputs": [
    {
     "data": {
      "text/plain": [
       "(5, 3)"
      ]
     },
     "execution_count": 67,
     "metadata": {},
     "output_type": "execute_result"
    }
   ],
   "source": [
    "\n",
    "#13\n",
    "random_array_4.shape"
   ]
  },
  {
   "cell_type": "code",
   "execution_count": null,
   "id": "eaffb70c",
   "metadata": {},
   "outputs": [],
   "source": []
  },
  {
   "cell_type": "code",
   "execution_count": null,
   "id": "62558ca4",
   "metadata": {},
   "outputs": [],
   "source": []
  },
  {
   "cell_type": "code",
   "execution_count": null,
   "id": "e15fdddb",
   "metadata": {},
   "outputs": [],
   "source": []
  },
  {
   "cell_type": "code",
   "execution_count": null,
   "id": "944221c4",
   "metadata": {},
   "outputs": [],
   "source": []
  },
  {
   "cell_type": "markdown",
   "id": "0e6fd821",
   "metadata": {},
   "source": [
    "## 3. viewing arrays and matrices"
   ]
  },
  {
   "cell_type": "code",
   "execution_count": 72,
   "id": "5df73d51",
   "metadata": {},
   "outputs": [
    {
     "data": {
      "text/plain": [
       "array([1, 2, 3, 4, 5, 7, 9])"
      ]
     },
     "execution_count": 72,
     "metadata": {},
     "output_type": "execute_result"
    }
   ],
   "source": [
    "#0\n",
    "#unique elements in numpy array\n",
    "np.unique(random_array_4)"
   ]
  },
  {
   "cell_type": "code",
   "execution_count": null,
   "id": "1fca7539",
   "metadata": {},
   "outputs": [],
   "source": []
  },
  {
   "cell_type": "code",
   "execution_count": 82,
   "id": "81b22754",
   "metadata": {},
   "outputs": [
    {
     "data": {
      "text/plain": [
       "array([1, 2, 3])"
      ]
     },
     "execution_count": 82,
     "metadata": {},
     "output_type": "execute_result"
    }
   ],
   "source": [
    "a1"
   ]
  },
  {
   "cell_type": "code",
   "execution_count": 78,
   "id": "9a09913f",
   "metadata": {},
   "outputs": [
    {
     "data": {
      "text/plain": [
       "array([[1. , 2.4, 3. ],\n",
       "       [4. , 5. , 6.5]])"
      ]
     },
     "execution_count": 78,
     "metadata": {},
     "output_type": "execute_result"
    }
   ],
   "source": [
    "a2"
   ]
  },
  {
   "cell_type": "code",
   "execution_count": 79,
   "id": "10729705",
   "metadata": {},
   "outputs": [
    {
     "data": {
      "text/plain": [
       "array([[[ 1,  3,  3],\n",
       "        [ 3,  5,  6],\n",
       "        [ 3,  5,  6],\n",
       "        [ 3,  5,  6]],\n",
       "\n",
       "       [[10, 11, 12],\n",
       "        [13, 14, 15],\n",
       "        [16, 17, 18],\n",
       "        [ 3,  5,  6]]])"
      ]
     },
     "execution_count": 79,
     "metadata": {},
     "output_type": "execute_result"
    }
   ],
   "source": [
    "a3"
   ]
  },
  {
   "cell_type": "code",
   "execution_count": 83,
   "id": "0257417d",
   "metadata": {},
   "outputs": [],
   "source": [
    "#viewing arrays and metrices takes a little bit practises and creating them off course "
   ]
  },
  {
   "cell_type": "code",
   "execution_count": 84,
   "id": "4c28a9a8",
   "metadata": {},
   "outputs": [
    {
     "data": {
      "text/plain": [
       "1"
      ]
     },
     "execution_count": 84,
     "metadata": {},
     "output_type": "execute_result"
    }
   ],
   "source": [
    "#1\n",
    "a1[0]"
   ]
  },
  {
   "cell_type": "code",
   "execution_count": 85,
   "id": "2450d05a",
   "metadata": {},
   "outputs": [
    {
     "data": {
      "text/plain": [
       "array([1. , 2.4, 3. ])"
      ]
     },
     "execution_count": 85,
     "metadata": {},
     "output_type": "execute_result"
    }
   ],
   "source": [
    "#1\n",
    "a2[0]"
   ]
  },
  {
   "cell_type": "code",
   "execution_count": 86,
   "id": "7abfd25e",
   "metadata": {},
   "outputs": [
    {
     "data": {
      "text/plain": [
       "(2, 4, 3)"
      ]
     },
     "execution_count": 86,
     "metadata": {},
     "output_type": "execute_result"
    }
   ],
   "source": [
    "a3.shape"
   ]
  },
  {
   "cell_type": "code",
   "execution_count": 87,
   "id": "d055f0d0",
   "metadata": {},
   "outputs": [
    {
     "data": {
      "text/plain": [
       "array([[1, 3, 3],\n",
       "       [3, 5, 6],\n",
       "       [3, 5, 6],\n",
       "       [3, 5, 6]])"
      ]
     },
     "execution_count": 87,
     "metadata": {},
     "output_type": "execute_result"
    }
   ],
   "source": [
    "#2\n",
    "a3[0]"
   ]
  },
  {
   "cell_type": "code",
   "execution_count": 88,
   "id": "71de886e",
   "metadata": {},
   "outputs": [
    {
     "data": {
      "text/plain": [
       "array([[1. , 2.4, 3. ],\n",
       "       [4. , 5. , 6.5]])"
      ]
     },
     "execution_count": 88,
     "metadata": {},
     "output_type": "execute_result"
    }
   ],
   "source": [
    "\n",
    "a2"
   ]
  },
  {
   "cell_type": "code",
   "execution_count": 89,
   "id": "eaa356d0",
   "metadata": {},
   "outputs": [
    {
     "data": {
      "text/plain": [
       "array([4. , 5. , 6.5])"
      ]
     },
     "execution_count": 89,
     "metadata": {},
     "output_type": "execute_result"
    }
   ],
   "source": [
    "#3\n",
    "a2[1]"
   ]
  },
  {
   "cell_type": "code",
   "execution_count": 90,
   "id": "27059e81",
   "metadata": {},
   "outputs": [
    {
     "data": {
      "text/plain": [
       "array([[[ 1,  3,  3],\n",
       "        [ 3,  5,  6],\n",
       "        [ 3,  5,  6],\n",
       "        [ 3,  5,  6]],\n",
       "\n",
       "       [[10, 11, 12],\n",
       "        [13, 14, 15],\n",
       "        [16, 17, 18],\n",
       "        [ 3,  5,  6]]])"
      ]
     },
     "execution_count": 90,
     "metadata": {},
     "output_type": "execute_result"
    }
   ],
   "source": [
    "a3"
   ]
  },
  {
   "cell_type": "code",
   "execution_count": 100,
   "id": "dcd8f04f",
   "metadata": {},
   "outputs": [
    {
     "data": {
      "text/plain": [
       "(2, 4, 3)"
      ]
     },
     "execution_count": 100,
     "metadata": {},
     "output_type": "execute_result"
    }
   ],
   "source": [
    "a3.shape"
   ]
  },
  {
   "cell_type": "code",
   "execution_count": 111,
   "id": "1ae5526c",
   "metadata": {},
   "outputs": [
    {
     "data": {
      "text/plain": [
       "array([[[ 1,  3],\n",
       "        [ 3,  5]],\n",
       "\n",
       "       [[10, 11],\n",
       "        [13, 14]]])"
      ]
     },
     "execution_count": 111,
     "metadata": {},
     "output_type": "execute_result"
    }
   ],
   "source": [
    "#4\n",
    "#slicing with arrays like python list\n",
    "a3[:2, :2, :2]"
   ]
  },
  {
   "cell_type": "code",
   "execution_count": null,
   "id": "ce9d893a",
   "metadata": {},
   "outputs": [],
   "source": []
  },
  {
   "cell_type": "code",
   "execution_count": 109,
   "id": "f5fcdec9",
   "metadata": {},
   "outputs": [
    {
     "data": {
      "text/plain": [
       "array([[[9, 6, 5, 6],\n",
       "        [8, 5, 9, 4],\n",
       "        [6, 0, 6, 2],\n",
       "        [3, 1, 6, 7]],\n",
       "\n",
       "       [[0, 0, 4, 7],\n",
       "        [0, 2, 9, 6],\n",
       "        [1, 2, 2, 8],\n",
       "        [9, 7, 2, 4]],\n",
       "\n",
       "       [[7, 7, 9, 1],\n",
       "        [0, 1, 8, 7],\n",
       "        [4, 6, 1, 4],\n",
       "        [8, 7, 3, 3]]])"
      ]
     },
     "execution_count": 109,
     "metadata": {},
     "output_type": "execute_result"
    }
   ],
   "source": [
    "#confusion so checking not adddddd in performing\n",
    "# #so 3 is creating 3 [] [] [] nad 4 is creating \n",
    "# 1\n",
    "# 1\n",
    "# 1\n",
    "# 1 and another 4 is creating 1 1 1 1\n",
    "\n",
    "a4 = np.random.randint(10, size=(3,4 , 4  ))\n",
    "a4\n"
   ]
  },
  {
   "cell_type": "code",
   "execution_count": null,
   "id": "5444c4ca",
   "metadata": {},
   "outputs": [],
   "source": []
  },
  {
   "cell_type": "code",
   "execution_count": 122,
   "id": "3322e6f5",
   "metadata": {},
   "outputs": [
    {
     "data": {
      "text/plain": [
       "array([[[[0, 6, 0, 8, 2],\n",
       "         [0, 0, 6, 9, 0],\n",
       "         [3, 5, 7, 6, 6],\n",
       "         [9, 3, 6, 1, 3]],\n",
       "\n",
       "        [[9, 6, 6, 6, 6],\n",
       "         [0, 6, 0, 6, 5],\n",
       "         [6, 3, 1, 4, 5],\n",
       "         [9, 4, 2, 8, 9]],\n",
       "\n",
       "        [[9, 0, 9, 3, 1],\n",
       "         [1, 5, 1, 0, 8],\n",
       "         [3, 1, 6, 2, 9],\n",
       "         [8, 5, 2, 2, 3]]],\n",
       "\n",
       "\n",
       "       [[[4, 8, 7, 0, 5],\n",
       "         [6, 2, 5, 8, 8],\n",
       "         [4, 3, 3, 5, 1],\n",
       "         [1, 4, 0, 6, 9]],\n",
       "\n",
       "        [[6, 1, 2, 1, 8],\n",
       "         [1, 3, 5, 4, 3],\n",
       "         [3, 4, 8, 1, 2],\n",
       "         [7, 9, 6, 9, 2]],\n",
       "\n",
       "        [[4, 0, 2, 2, 0],\n",
       "         [4, 4, 7, 1, 2],\n",
       "         [3, 4, 8, 3, 1],\n",
       "         [3, 4, 6, 7, 9]]]])"
      ]
     },
     "execution_count": 122,
     "metadata": {},
     "output_type": "execute_result"
    }
   ],
   "source": [
    "#5\n",
    "a4 = np.random.randint(10, size=(2 , 3 , 4 , 5))\n",
    "a4"
   ]
  },
  {
   "cell_type": "code",
   "execution_count": 123,
   "id": "e694d131",
   "metadata": {},
   "outputs": [
    {
     "data": {
      "text/plain": [
       "((2, 3, 4, 5), 4)"
      ]
     },
     "execution_count": 123,
     "metadata": {},
     "output_type": "execute_result"
    }
   ],
   "source": [
    "#6\n",
    "a4.shape, a4.ndim"
   ]
  },
  {
   "cell_type": "code",
   "execution_count": 125,
   "id": "1ba9d24f",
   "metadata": {},
   "outputs": [
    {
     "data": {
      "text/plain": [
       "array([[[[0, 6],\n",
       "         [0, 0],\n",
       "         [3, 5],\n",
       "         [9, 3]],\n",
       "\n",
       "        [[9, 6],\n",
       "         [0, 6],\n",
       "         [6, 3],\n",
       "         [9, 4]],\n",
       "\n",
       "        [[9, 0],\n",
       "         [1, 5],\n",
       "         [3, 1],\n",
       "         [8, 5]]],\n",
       "\n",
       "\n",
       "       [[[4, 8],\n",
       "         [6, 2],\n",
       "         [4, 3],\n",
       "         [1, 4]],\n",
       "\n",
       "        [[6, 1],\n",
       "         [1, 3],\n",
       "         [3, 4],\n",
       "         [7, 9]],\n",
       "\n",
       "        [[4, 0],\n",
       "         [4, 4],\n",
       "         [3, 4],\n",
       "         [3, 4]]]])"
      ]
     },
     "execution_count": 125,
     "metadata": {},
     "output_type": "execute_result"
    }
   ],
   "source": [
    "#7\n",
    "#so how to get the the first 4 numbers of the inner most arrays\n",
    "a4[:,:,:,:2]"
   ]
  },
  {
   "cell_type": "code",
   "execution_count": null,
   "id": "e33f11dc",
   "metadata": {},
   "outputs": [],
   "source": []
  },
  {
   "cell_type": "code",
   "execution_count": null,
   "id": "3b8964ec",
   "metadata": {},
   "outputs": [],
   "source": []
  },
  {
   "cell_type": "code",
   "execution_count": null,
   "id": "350073b0",
   "metadata": {},
   "outputs": [],
   "source": []
  },
  {
   "cell_type": "code",
   "execution_count": null,
   "id": "f7d4cd96",
   "metadata": {},
   "outputs": [],
   "source": []
  },
  {
   "cell_type": "markdown",
   "id": "77ed68a4",
   "metadata": {},
   "source": [
    "## 4. Manipulating & comparing arrays"
   ]
  },
  {
   "cell_type": "markdown",
   "id": "53d95c4e",
   "metadata": {},
   "source": [
    "### Arithmetic "
   ]
  },
  {
   "cell_type": "code",
   "execution_count": 126,
   "id": "85809a64",
   "metadata": {},
   "outputs": [
    {
     "data": {
      "text/plain": [
       "array([1, 2, 3])"
      ]
     },
     "execution_count": 126,
     "metadata": {},
     "output_type": "execute_result"
    }
   ],
   "source": [
    "a1"
   ]
  },
  {
   "cell_type": "code",
   "execution_count": 129,
   "id": "116c56eb",
   "metadata": {},
   "outputs": [
    {
     "data": {
      "text/plain": [
       "array([1., 1., 1.])"
      ]
     },
     "execution_count": 129,
     "metadata": {},
     "output_type": "execute_result"
    }
   ],
   "source": [
    "ones = np.ones(3)\n",
    "ones"
   ]
  },
  {
   "cell_type": "code",
   "execution_count": 131,
   "id": "3597e467",
   "metadata": {},
   "outputs": [
    {
     "data": {
      "text/plain": [
       "array([2., 3., 4.])"
      ]
     },
     "execution_count": 131,
     "metadata": {},
     "output_type": "execute_result"
    }
   ],
   "source": [
    "\n",
    "#1\n",
    "\n",
    "\n",
    "a1 + ones\n"
   ]
  },
  {
   "cell_type": "code",
   "execution_count": 132,
   "id": "4d8ecf7e",
   "metadata": {},
   "outputs": [
    {
     "data": {
      "text/plain": [
       "array([0., 1., 2.])"
      ]
     },
     "execution_count": 132,
     "metadata": {},
     "output_type": "execute_result"
    }
   ],
   "source": [
    "#2\n",
    "\n",
    "\n",
    "a1-ones\n"
   ]
  },
  {
   "cell_type": "code",
   "execution_count": 133,
   "id": "75c24a31",
   "metadata": {},
   "outputs": [
    {
     "data": {
      "text/plain": [
       "array([1., 2., 3.])"
      ]
     },
     "execution_count": 133,
     "metadata": {},
     "output_type": "execute_result"
    }
   ],
   "source": [
    "#3\n",
    "\n",
    "\n",
    "a1 * ones\n"
   ]
  },
  {
   "cell_type": "code",
   "execution_count": 134,
   "id": "e56d0ea3",
   "metadata": {},
   "outputs": [
    {
     "data": {
      "text/plain": [
       "array([[1. , 2.4, 3. ],\n",
       "       [4. , 5. , 6.5]])"
      ]
     },
     "execution_count": 134,
     "metadata": {},
     "output_type": "execute_result"
    }
   ],
   "source": [
    "a2"
   ]
  },
  {
   "cell_type": "code",
   "execution_count": 135,
   "id": "d33649b6",
   "metadata": {},
   "outputs": [
    {
     "data": {
      "text/plain": [
       "array([[ 1. ,  4.8,  9. ],\n",
       "       [ 4. , 10. , 19.5]])"
      ]
     },
     "execution_count": 135,
     "metadata": {},
     "output_type": "execute_result"
    }
   ],
   "source": [
    "#4\n",
    "\n",
    "\n",
    "\n",
    "a1 * a2 \n"
   ]
  },
  {
   "cell_type": "code",
   "execution_count": 137,
   "id": "0f6781bb",
   "metadata": {},
   "outputs": [
    {
     "data": {
      "text/plain": [
       "array([[[ 1,  3,  3],\n",
       "        [ 3,  5,  6],\n",
       "        [ 3,  5,  6],\n",
       "        [ 3,  5,  6]],\n",
       "\n",
       "       [[10, 11, 12],\n",
       "        [13, 14, 15],\n",
       "        [16, 17, 18],\n",
       "        [ 3,  5,  6]]])"
      ]
     },
     "execution_count": 137,
     "metadata": {},
     "output_type": "execute_result"
    }
   ],
   "source": [
    "a3"
   ]
  },
  {
   "cell_type": "code",
   "execution_count": 138,
   "id": "8760d2fd",
   "metadata": {},
   "outputs": [
    {
     "ename": "ValueError",
     "evalue": "operands could not be broadcast together with shapes (2,3) (2,4,3) ",
     "output_type": "error",
     "traceback": [
      "\u001b[1;31m---------------------------------------------------------------------------\u001b[0m",
      "\u001b[1;31mValueError\u001b[0m                                Traceback (most recent call last)",
      "Cell \u001b[1;32mIn[138], line 1\u001b[0m\n\u001b[1;32m----> 1\u001b[0m \u001b[43ma2\u001b[49m\u001b[43m \u001b[49m\u001b[38;5;241;43m*\u001b[39;49m\u001b[43m \u001b[49m\u001b[43ma3\u001b[49m\n",
      "\u001b[1;31mValueError\u001b[0m: operands could not be broadcast together with shapes (2,3) (2,4,3) "
     ]
    }
   ],
   "source": [
    "#5\n",
    "#operands could not be brodcast together with shapes(2,3) (2,3,3)\n",
    "#so in starting numpy is fast because it vectorizes the code through a technique called broadcasting\n",
    "#so to be fast brodcasting have few rules go and search broadcasting numpy\n",
    "# the term broadcasting describes how numpy treats arrays with different shapes during arithmetic operations.\n",
    "\n",
    "#how can you reshape a2 to be compatible with a3? \n",
    "# search : \"how to reshape numpy array\"\n",
    "\n",
    "a2 * a3"
   ]
  },
  {
   "cell_type": "code",
   "execution_count": 139,
   "id": "fc15ff7e",
   "metadata": {},
   "outputs": [
    {
     "data": {
      "text/plain": [
       "array([1., 2., 3.])"
      ]
     },
     "execution_count": 139,
     "metadata": {},
     "output_type": "execute_result"
    }
   ],
   "source": [
    "#6\n",
    "a1 / ones"
   ]
  },
  {
   "cell_type": "code",
   "execution_count": 140,
   "id": "8a8ac4e2",
   "metadata": {},
   "outputs": [
    {
     "data": {
      "text/plain": [
       "array([[1.        , 1.2       , 1.        ],\n",
       "       [4.        , 2.5       , 2.16666667]])"
      ]
     },
     "execution_count": 140,
     "metadata": {},
     "output_type": "execute_result"
    }
   ],
   "source": [
    "#7\n",
    "a2 / a1"
   ]
  },
  {
   "cell_type": "code",
   "execution_count": 141,
   "id": "df2c5bba",
   "metadata": {},
   "outputs": [
    {
     "data": {
      "text/plain": [
       "array([[1., 1., 1.],\n",
       "       [4., 2., 2.]])"
      ]
     },
     "execution_count": 141,
     "metadata": {},
     "output_type": "execute_result"
    }
   ],
   "source": [
    "#8\n",
    "#floor division removes the decimals (rounds down)\n",
    "a2 // a1"
   ]
  },
  {
   "cell_type": "code",
   "execution_count": null,
   "id": "9002dcc7",
   "metadata": {},
   "outputs": [],
   "source": []
  },
  {
   "cell_type": "code",
   "execution_count": 142,
   "id": "8925ee21",
   "metadata": {},
   "outputs": [
    {
     "data": {
      "text/plain": [
       "array([[ 1.  ,  5.76,  9.  ],\n",
       "       [16.  , 25.  , 42.25]])"
      ]
     },
     "execution_count": 142,
     "metadata": {},
     "output_type": "execute_result"
    }
   ],
   "source": [
    "#9\n",
    "a2 ** 2"
   ]
  },
  {
   "cell_type": "code",
   "execution_count": 143,
   "id": "9c8923f8",
   "metadata": {},
   "outputs": [
    {
     "data": {
      "text/plain": [
       "array([[ 1.  ,  5.76,  9.  ],\n",
       "       [16.  , 25.  , 42.25]])"
      ]
     },
     "execution_count": 143,
     "metadata": {},
     "output_type": "execute_result"
    }
   ],
   "source": [
    "#10\n",
    "np.square(a2)"
   ]
  },
  {
   "cell_type": "code",
   "execution_count": null,
   "id": "eb6fe5b1",
   "metadata": {},
   "outputs": [],
   "source": []
  },
  {
   "cell_type": "code",
   "execution_count": 145,
   "id": "bc182264",
   "metadata": {},
   "outputs": [
    {
     "data": {
      "text/plain": [
       "array([2., 3., 4.])"
      ]
     },
     "execution_count": 145,
     "metadata": {},
     "output_type": "execute_result"
    }
   ],
   "source": [
    "#11\n",
    "a1 + ones"
   ]
  },
  {
   "cell_type": "code",
   "execution_count": 144,
   "id": "54fbdd24",
   "metadata": {},
   "outputs": [
    {
     "data": {
      "text/plain": [
       "array([2., 3., 4.])"
      ]
     },
     "execution_count": 144,
     "metadata": {},
     "output_type": "execute_result"
    }
   ],
   "source": [
    "#12\n",
    "np.add(a1, ones)"
   ]
  },
  {
   "cell_type": "code",
   "execution_count": null,
   "id": "cedd0212",
   "metadata": {},
   "outputs": [],
   "source": []
  },
  {
   "cell_type": "code",
   "execution_count": 148,
   "id": "9ad9575b",
   "metadata": {},
   "outputs": [
    {
     "data": {
      "text/plain": [
       "array([1, 0, 1], dtype=int32)"
      ]
     },
     "execution_count": 148,
     "metadata": {},
     "output_type": "execute_result"
    }
   ],
   "source": [
    "#12\n",
    "a1 % 2"
   ]
  },
  {
   "cell_type": "code",
   "execution_count": 147,
   "id": "b51a0df1",
   "metadata": {},
   "outputs": [
    {
     "data": {
      "text/plain": [
       "array([0.5, 1. , 1.5])"
      ]
     },
     "execution_count": 147,
     "metadata": {},
     "output_type": "execute_result"
    }
   ],
   "source": [
    "#14\n",
    "a1 / 2"
   ]
  },
  {
   "cell_type": "code",
   "execution_count": 149,
   "id": "5f05418a",
   "metadata": {},
   "outputs": [
    {
     "data": {
      "text/plain": [
       "array([ 2.71828183,  7.3890561 , 20.08553692])"
      ]
     },
     "execution_count": 149,
     "metadata": {},
     "output_type": "execute_result"
    }
   ],
   "source": [
    "#15\n",
    "np.exp(a1)"
   ]
  },
  {
   "cell_type": "code",
   "execution_count": 150,
   "id": "d4fb92fd",
   "metadata": {},
   "outputs": [
    {
     "data": {
      "text/plain": [
       "array([0.        , 0.69314718, 1.09861229])"
      ]
     },
     "execution_count": 150,
     "metadata": {},
     "output_type": "execute_result"
    }
   ],
   "source": [
    "#16\n",
    "np.log(a1)"
   ]
  },
  {
   "cell_type": "markdown",
   "id": "d3b16dc4",
   "metadata": {},
   "source": [
    "### Aggregation"
   ]
  },
  {
   "cell_type": "code",
   "execution_count": 153,
   "id": "de9bade5",
   "metadata": {},
   "outputs": [],
   "source": [
    "#Aggregation = performing the same operation a number of things\n",
    "#Aggregation refers to the process of combining multiple pieces of data into a single, summarized representation. In data analysis, aggregation is used to perform operations such as calculating sums, averages, counts, and other summary statistics. This allows you to quickly understand the key patterns and relationships in a large dataset.\n",
    "#in our case the number of things is a numpy array"
   ]
  },
  {
   "cell_type": "code",
   "execution_count": 164,
   "id": "e56fc083",
   "metadata": {},
   "outputs": [
    {
     "data": {
      "text/plain": [
       "list"
      ]
     },
     "execution_count": 164,
     "metadata": {},
     "output_type": "execute_result"
    }
   ],
   "source": [
    "#1\n",
    "listy_list = [1 ,2 ,3]\n",
    "type(listy_list)"
   ]
  },
  {
   "cell_type": "code",
   "execution_count": 156,
   "id": "56883d40",
   "metadata": {},
   "outputs": [
    {
     "data": {
      "text/plain": [
       "6"
      ]
     },
     "execution_count": 156,
     "metadata": {},
     "output_type": "execute_result"
    }
   ],
   "source": [
    "#2\n",
    "sum(listy_list)"
   ]
  },
  {
   "cell_type": "code",
   "execution_count": 157,
   "id": "84913075",
   "metadata": {},
   "outputs": [
    {
     "data": {
      "text/plain": [
       "array([1, 2, 3])"
      ]
     },
     "execution_count": 157,
     "metadata": {},
     "output_type": "execute_result"
    }
   ],
   "source": [
    "a1"
   ]
  },
  {
   "cell_type": "code",
   "execution_count": 159,
   "id": "f95f3497",
   "metadata": {},
   "outputs": [
    {
     "data": {
      "text/plain": [
       "6"
      ]
     },
     "execution_count": 159,
     "metadata": {},
     "output_type": "execute_result"
    }
   ],
   "source": [
    "#3\n",
    "sum(a1)"
   ]
  },
  {
   "cell_type": "code",
   "execution_count": 160,
   "id": "c1b0c803",
   "metadata": {},
   "outputs": [
    {
     "data": {
      "text/plain": [
       "6"
      ]
     },
     "execution_count": 160,
     "metadata": {},
     "output_type": "execute_result"
    }
   ],
   "source": [
    "#4\n",
    "np.sum(a1)"
   ]
  },
  {
   "cell_type": "code",
   "execution_count": 162,
   "id": "dfceb63f",
   "metadata": {},
   "outputs": [],
   "source": [
    "#two you can get confusing two differnts ways#okay why ther is different function and what is the difference between this two you can get cofnfusing having two differnt ways of permorming the same agregation a set of data and remeber  agreagation  just permoming same operation in number of things   "
   ]
  },
  {
   "cell_type": "markdown",
   "id": "eda2af35",
   "metadata": {},
   "source": [
    "#use python's methods (sum(), on python datatypes and use\n",
    "\n",
    "#NumPy's methods on NumPy arrays"
   ]
  },
  {
   "cell_type": "code",
   "execution_count": 166,
   "id": "1e7f0133",
   "metadata": {},
   "outputs": [
    {
     "data": {
      "text/plain": [
       "100000"
      ]
     },
     "execution_count": 166,
     "metadata": {},
     "output_type": "execute_result"
    }
   ],
   "source": [
    "#1\n",
    "# Creative a massive Numpy array\n",
    "massive_array = np.random.random(100000)\n",
    "massive_array.size"
   ]
  },
  {
   "cell_type": "code",
   "execution_count": 170,
   "id": "442c66df",
   "metadata": {},
   "outputs": [
    {
     "data": {
      "text/plain": [
       "array([0.93944553, 0.96440196, 0.04947572, 0.33467517, 0.34983755,\n",
       "       0.52238106, 0.08781228, 0.55267127, 0.01316815, 0.79784768])"
      ]
     },
     "execution_count": 170,
     "metadata": {},
     "output_type": "execute_result"
    }
   ],
   "source": [
    "#2\n",
    "massive_array[:10]"
   ]
  },
  {
   "cell_type": "code",
   "execution_count": 175,
   "id": "82518c0b",
   "metadata": {},
   "outputs": [
    {
     "name": "stdout",
     "output_type": "stream",
     "text": [
      "17.8 ms ± 1.88 ms per loop (mean ± std. dev. of 7 runs, 10 loops each)\n",
      "112 µs ± 5.43 µs per loop (mean ± std. dev. of 7 runs, 10,000 loops each)\n"
     ]
    }
   ],
   "source": [
    "#3\n",
    "#% now we gona use one of juypter notebook  or python magic function magic funcion have litle percentage sign in starting \n",
    "#%timeit how much a paricular line code takes time to run\n",
    "\n",
    "%timeit sum(massive_array) #Python's sum()\n",
    "%timeit np.sum(massive_array) #NumPy's sum()\n",
    "\n"
   ]
  },
  {
   "cell_type": "code",
   "execution_count": 176,
   "id": "05fe3a20",
   "metadata": {},
   "outputs": [
    {
     "data": {
      "text/plain": [
       "523.5294117647059"
      ]
     },
     "execution_count": 176,
     "metadata": {},
     "output_type": "execute_result"
    }
   ],
   "source": [
    "#so 17.8 ms per loop +- 1.88 millisecond 10 loops\n",
    "#took 112 microsecond \n",
    "\n",
    "#17.8 millisecond to microsecond\n",
    "17800 / 34\n",
    "\n",
    "#it means numpy np.sum is 523.5294117647059 faster then python sum\n"
   ]
  },
  {
   "cell_type": "markdown",
   "id": "aaa558a7",
   "metadata": {},
   "source": [
    "#      NOTE  use python's methods (sum(), on python datatypes and use         NumPy's methods on NumPy arraysbecause numpy is being optimized to perfrom numerical calculations whenever you want to perform numerical calculations always remember to use  numpy version of an aggregation function\n"
   ]
  },
  {
   "cell_type": "code",
   "execution_count": null,
   "id": "94947bf6",
   "metadata": {},
   "outputs": [],
   "source": [
    "#4\n",
    "#talking about agregation funcition lets have few more  "
   ]
  }
 ],
 "metadata": {
  "kernelspec": {
   "display_name": "Python 3 (ipykernel)",
   "language": "python",
   "name": "python3"
  },
  "language_info": {
   "codemirror_mode": {
    "name": "ipython",
    "version": 3
   },
   "file_extension": ".py",
   "mimetype": "text/x-python",
   "name": "python",
   "nbconvert_exporter": "python",
   "pygments_lexer": "ipython3",
   "version": "3.10.9"
  }
 },
 "nbformat": 4,
 "nbformat_minor": 5
}
