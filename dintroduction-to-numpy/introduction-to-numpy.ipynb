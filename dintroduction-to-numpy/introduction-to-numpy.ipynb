{
 "cells": [
  {
   "cell_type": "code",
   "execution_count": 1,
   "id": "e6f08846",
   "metadata": {},
   "outputs": [],
   "source": [
    "import numpy as np"
   ]
  },
  {
   "cell_type": "markdown",
   "id": "a0e0892c",
   "metadata": {},
   "source": [
    "## DataTypes & Attributes "
   ]
  },
  {
   "cell_type": "code",
   "execution_count": 3,
   "id": "64d13d70",
   "metadata": {},
   "outputs": [
    {
     "data": {
      "text/plain": [
       "array([1, 2, 3])"
      ]
     },
     "execution_count": 3,
     "metadata": {},
     "output_type": "execute_result"
    }
   ],
   "source": [
    "# NumPy's main datatype is ndarray (n dimensional array) \n",
    "a1 = np.array([1 , 2 , 3 ])\n",
    "a1"
   ]
  },
  {
   "cell_type": "code",
   "execution_count": 4,
   "id": "6110364f",
   "metadata": {},
   "outputs": [
    {
     "data": {
      "text/plain": [
       "numpy.ndarray"
      ]
     },
     "execution_count": 4,
     "metadata": {},
     "output_type": "execute_result"
    }
   ],
   "source": [
    "type(a1)"
   ]
  },
  {
   "cell_type": "code",
   "execution_count": 30,
   "id": "452fb628",
   "metadata": {},
   "outputs": [],
   "source": [
    "a2 = np.array([[1 , 2.4 , 3],\n",
    "             [4 , 5 , 6.5]])\n",
    "\n",
    "a3 = np.array([[[1 , 3 , 3 ],\n",
    "               [3 , 5 , 6],\n",
    "               [3 , 5 , 6],\n",
    "                [3 , 5 , 6]],\n",
    "               \n",
    "              [[10 , 11 , 12],\n",
    "              [13 , 14 , 15],\n",
    "               [16 , 17 , 18],\n",
    "               [3 , 5 , 6]]])"
   ]
  },
  {
   "cell_type": "code",
   "execution_count": 31,
   "id": "134ea1c7",
   "metadata": {},
   "outputs": [
    {
     "data": {
      "text/plain": [
       "array([[1. , 2.4, 3. ],\n",
       "       [4. , 5. , 6.5]])"
      ]
     },
     "execution_count": 31,
     "metadata": {},
     "output_type": "execute_result"
    }
   ],
   "source": [
    "a2"
   ]
  },
  {
   "cell_type": "code",
   "execution_count": 7,
   "id": "83b2db06",
   "metadata": {},
   "outputs": [
    {
     "data": {
      "text/plain": [
       "array([[[ 1,  3,  3],\n",
       "        [ 3,  5,  6],\n",
       "        [ 3,  5,  6]],\n",
       "\n",
       "       [[10, 11, 12],\n",
       "        [13, 14, 15],\n",
       "        [16, 17, 18]]])"
      ]
     },
     "execution_count": 7,
     "metadata": {},
     "output_type": "execute_result"
    }
   ],
   "source": [
    "a3"
   ]
  },
  {
   "cell_type": "code",
   "execution_count": 8,
   "id": "b2aebd22",
   "metadata": {},
   "outputs": [
    {
     "data": {
      "text/plain": [
       "(3,)"
      ]
     },
     "execution_count": 8,
     "metadata": {},
     "output_type": "execute_result"
    }
   ],
   "source": [
    "a1.shape"
   ]
  },
  {
   "cell_type": "code",
   "execution_count": 9,
   "id": "314bc799",
   "metadata": {},
   "outputs": [
    {
     "data": {
      "text/plain": [
       "(2, 3)"
      ]
     },
     "execution_count": 9,
     "metadata": {},
     "output_type": "execute_result"
    }
   ],
   "source": [
    " a2.shape"
   ]
  },
  {
   "cell_type": "code",
   "execution_count": 10,
   "id": "a442233a",
   "metadata": {},
   "outputs": [
    {
     "data": {
      "text/plain": [
       "(2, 3, 3)"
      ]
     },
     "execution_count": 10,
     "metadata": {},
     "output_type": "execute_result"
    }
   ],
   "source": [
    "a3.shape"
   ]
  },
  {
   "cell_type": "code",
   "execution_count": 13,
   "id": "7f90e1e5",
   "metadata": {},
   "outputs": [
    {
     "data": {
      "text/plain": [
       "1"
      ]
     },
     "execution_count": 13,
     "metadata": {},
     "output_type": "execute_result"
    }
   ],
   "source": [
    "a1.ndim"
   ]
  },
  {
   "cell_type": "code",
   "execution_count": 14,
   "id": "22b7b9d4",
   "metadata": {},
   "outputs": [
    {
     "data": {
      "text/plain": [
       "3"
      ]
     },
     "execution_count": 14,
     "metadata": {},
     "output_type": "execute_result"
    }
   ],
   "source": [
    "a3.ndim"
   ]
  },
  {
   "cell_type": "code",
   "execution_count": 15,
   "id": "51571e74",
   "metadata": {},
   "outputs": [
    {
     "data": {
      "text/plain": [
       "2"
      ]
     },
     "execution_count": 15,
     "metadata": {},
     "output_type": "execute_result"
    }
   ],
   "source": [
    "a2.ndim"
   ]
  },
  {
   "cell_type": "code",
   "execution_count": 16,
   "id": "856a3494",
   "metadata": {},
   "outputs": [
    {
     "data": {
      "text/plain": [
       "(1, 2, 3)"
      ]
     },
     "execution_count": 16,
     "metadata": {},
     "output_type": "execute_result"
    }
   ],
   "source": [
    "a1.ndim , a2.ndim , a3.ndim"
   ]
  },
  {
   "cell_type": "markdown",
   "id": "362f046f",
   "metadata": {},
   "source": [
    "## whatever data you're working with, it somehow gets turned into numbers and then a machine learning algorithm will find patterns in these numbers "
   ]
  },
  {
   "cell_type": "code",
   "execution_count": 17,
   "id": "1dfc4329",
   "metadata": {},
   "outputs": [
    {
     "data": {
      "text/plain": [
       "(dtype('int32'), dtype('float64'), dtype('int32'))"
      ]
     },
     "execution_count": 17,
     "metadata": {},
     "output_type": "execute_result"
    }
   ],
   "source": [
    "a1.dtype , a2.dtype , a3.dtype"
   ]
  },
  {
   "cell_type": "code",
   "execution_count": 18,
   "id": "afd31b35",
   "metadata": {},
   "outputs": [
    {
     "data": {
      "text/plain": [
       "(3, 6, 18)"
      ]
     },
     "execution_count": 18,
     "metadata": {},
     "output_type": "execute_result"
    }
   ],
   "source": [
    "a1.size , a2.size , a3.size"
   ]
  },
  {
   "cell_type": "code",
   "execution_count": 19,
   "id": "d372316e",
   "metadata": {},
   "outputs": [
    {
     "data": {
      "text/plain": [
       "(numpy.ndarray, numpy.ndarray, numpy.ndarray)"
      ]
     },
     "execution_count": 19,
     "metadata": {},
     "output_type": "execute_result"
    }
   ],
   "source": [
    "type(a1) , type(a2) , type(a3)"
   ]
  },
  {
   "cell_type": "code",
   "execution_count": 24,
   "id": "5ad6b795",
   "metadata": {},
   "outputs": [
    {
     "data": {
      "text/html": [
       "<div>\n",
       "<style scoped>\n",
       "    .dataframe tbody tr th:only-of-type {\n",
       "        vertical-align: middle;\n",
       "    }\n",
       "\n",
       "    .dataframe tbody tr th {\n",
       "        vertical-align: top;\n",
       "    }\n",
       "\n",
       "    .dataframe thead th {\n",
       "        text-align: right;\n",
       "    }\n",
       "</style>\n",
       "<table border=\"1\" class=\"dataframe\">\n",
       "  <thead>\n",
       "    <tr style=\"text-align: right;\">\n",
       "      <th></th>\n",
       "      <th>0</th>\n",
       "      <th>1</th>\n",
       "      <th>2</th>\n",
       "    </tr>\n",
       "  </thead>\n",
       "  <tbody>\n",
       "    <tr>\n",
       "      <th>0</th>\n",
       "      <td>1.0</td>\n",
       "      <td>2.4</td>\n",
       "      <td>3.0</td>\n",
       "    </tr>\n",
       "    <tr>\n",
       "      <th>1</th>\n",
       "      <td>4.0</td>\n",
       "      <td>5.0</td>\n",
       "      <td>6.5</td>\n",
       "    </tr>\n",
       "  </tbody>\n",
       "</table>\n",
       "</div>"
      ],
      "text/plain": [
       "     0    1    2\n",
       "0  1.0  2.4  3.0\n",
       "1  4.0  5.0  6.5"
      ]
     },
     "execution_count": 24,
     "metadata": {},
     "output_type": "execute_result"
    }
   ],
   "source": [
    "#so now to really exemplify Numpy being the backbone of other scientific data packages, that is  let's \n",
    "#create a dataframe form a NumPy array\n",
    "import pandas as pd\n",
    "df = pd.DataFrame(a2)\n",
    "df"
   ]
  },
  {
   "cell_type": "markdown",
   "id": "4f5f11d4",
   "metadata": {},
   "source": [
    "So this is a pandas dataframe and this is our numpy array.\n",
    "‫So essentially, no matter what's in our pandas dataframe, if it's all numbers, pandas is built on\n",
    "‫top of numpy\n",
    "‫So to represent our data as a data frame, it's just combining NumPy arrays in a formatted way.\n",
    "‫So that's a very important point to remember as well, is that once we start to get into the weeds of\n",
    "NumPy and start to work out what kind of numerical computing it can do, we can start to think, okay,"
   ]
  },
  {
   "cell_type": "markdown",
   "id": "d00442bc",
   "metadata": {},
   "source": [
    "so if we have some data and we import it in PANDAS, it's actually just a different combination umpire\n",
    "‫raise.\n",
    "‫So if we want to perform some manipulations on it, we're actually just performing manipulations on\n",
    "‫different lists of numbers.\n",
    "‫All right.\n",
    "‫That's a brief introduction to NumPy, his main data type.\n",
    "‫That's the main thing to take away from this is that Andhra, whatever array you have in numpy is of\n",
    "‫type NDI array and that pandas and other machine learning algorithm packages are built on top of numpy\n",
    "‫and machine learning is finding patterns in numpy arrays.\n",
    "‫So with that being said, let's take a little break.\n",
    "‫If you need to go back and explore, create an array of your own by trialing it out.\n",
    "‫If in doubt, run the code and I'll see you in the next video.\n",
    "\n"
   ]
  },
  {
   "cell_type": "markdown",
   "id": "1df5fd63",
   "metadata": {},
   "source": [
    "so if we have some data and we import it in PANDAS, it's actually just a different combination umpire\n",
    "‫raise.\n",
    "‫So if we want to perform some manipulations on it, we're actually just performing manipulations on\n",
    "‫different lists of numbers.\n",
    "‫All right.\n",
    "‫That's a brief introduction to NumPy, his main data type.\n",
    "‫That's the main thing to take away from this is that Andhra, whatever array you have in numpy is of\n",
    "‫type NDI array and that pandas and other machine learning algorithm packages are built on top of numpy\n",
    "‫and machine learning is finding patterns in numpy arrays.\n",
    "‫So with that being said, let's take a little break.\n",
    "‫If you need to go back and explore, create an array of your own by trialing it out.\n",
    "‫If in doubt, run the code and I'll see you in the next video.\n"
   ]
  },
  {
   "cell_type": "markdown",
   "id": "bc867a5f",
   "metadata": {},
   "source": [
    "NumPy is called the \"backbone\" of the scientific Python ecosystem because it provides a powerful and efficient array object that forms the foundation for a wide variety of other libraries, including pandas, scikit-learn, and Matplotlib. These libraries build on top of the functionality provided by NumPy to provide powerful tools for data manipulation, analysis, and visualization. The array object in NumPy allows for fast, vectorized operations and is highly optimized for performance, making it well-suited for large-scale data processing and scientific computing tasks."
   ]
  },
  {
   "cell_type": "markdown",
   "id": "0a3a1cb3",
   "metadata": {},
   "source": [
    "In my previous answer, when I said \"NumPy provides a powerful and efficient array object that forms the foundation for a wide variety of other libraries,\" I meant that the array object in NumPy is used as the basis for many other libraries in the scientific Python ecosystem. These other libraries build on top of the functionality provided by NumPy to provide additional features and tools for data manipulation, analysis, and visualization. For example, pandas uses NumPy arrays as the underlying data structure for its DataFrame and Series objects, which provide additional methods for working with data in a tabular format. Similarly, scikit-learn uses NumPy arrays as the input for its machine learning algorithms, and Matplotlib uses NumPy arrays to represent and manipulate data for plotting and visualization. In short, NumPy is an important and widely used library that provides a powerful array object that is used as a foundation for many other libraries in the scientific Python ecosystem."
   ]
  },
  {
   "cell_type": "markdown",
   "id": "399f364a",
   "metadata": {},
   "source": [
    "Yes, that's correct. The \"ndarray,\" or \"n-dimensional array,\" is the main data structure provided by NumPy and is used to store and manipulate large arrays of homogeneous data (i.e., data of the same type, such as integers or floating-point numbers). The \"n\" in \"ndarray\" refers to the fact that these arrays can have any number of dimensions, not just one or two as in traditional arrays. The ndarray is a universal array meaning it can handle a wide variety of data types, such as integers, floating-point numbers, and complex numbers, and can be used for a wide range of tasks, including mathematical and statistical operations, linear algebra, and data manipulation and transformation. The ndarray is highly optimized for performance, making it well-suited for large-scale data processing and scientific computing tasks."
   ]
  },
  {
   "cell_type": "markdown",
   "id": "918eda49",
   "metadata": {},
   "source": [
    "##Anatomy of NumPy array"
   ]
  },
  {
   "cell_type": "code",
   "execution_count": 48,
   "id": "d15d64fd",
   "metadata": {},
   "outputs": [],
   "source": [
    "check1 = np.array([1 , 2 , 3])"
   ]
  },
  {
   "cell_type": "code",
   "execution_count": 49,
   "id": "be3987e2",
   "metadata": {},
   "outputs": [
    {
     "data": {
      "text/plain": [
       "1"
      ]
     },
     "execution_count": 49,
     "metadata": {},
     "output_type": "execute_result"
    }
   ],
   "source": [
    "check1.ndim"
   ]
  },
  {
   "cell_type": "code",
   "execution_count": 50,
   "id": "54cfa734",
   "metadata": {},
   "outputs": [],
   "source": [
    "check2 = np.array([[1 , 2 , 4],\n",
    "                  [3 , 5 ,5],\n",
    "                  [4 , 5 ,5]])"
   ]
  },
  {
   "cell_type": "code",
   "execution_count": 51,
   "id": "6d59f2f7",
   "metadata": {},
   "outputs": [
    {
     "data": {
      "text/plain": [
       "2"
      ]
     },
     "execution_count": 51,
     "metadata": {},
     "output_type": "execute_result"
    }
   ],
   "source": [
    "check2.ndim"
   ]
  },
  {
   "cell_type": "code",
   "execution_count": 57,
   "id": "8efa6e87",
   "metadata": {},
   "outputs": [],
   "source": [
    "\n",
    "\n",
    "check3 = np.array([\n",
    "    [\n",
    "        [1 , 3 , 4],\n",
    "         [1 , 3 , 4],\n",
    "         [1 , 3 , 4]\n",
    "    ],\n",
    "     [\n",
    "        [1 , 3 , 4],\n",
    "         [1 , 3 , 4],\n",
    "         [1 , 3 , 4]\n",
    "    ],\n",
    "     [\n",
    "        [1 , 3 , 4],\n",
    "         [1 , 3 , 4],\n",
    "         [1 , 3 , 4]\n",
    "    ],\n",
    "      [\n",
    "        [1 , 3 , 4],\n",
    "         [1 , 3 , 4],\n",
    "         [1 , 3 , 4]\n",
    "    ]\n",
    "    \n",
    "])"
   ]
  },
  {
   "cell_type": "code",
   "execution_count": 62,
   "id": "687557ae",
   "metadata": {},
   "outputs": [
    {
     "data": {
      "text/plain": [
       "3"
      ]
     },
     "execution_count": 62,
     "metadata": {},
     "output_type": "execute_result"
    }
   ],
   "source": [
    "check3.ndim"
   ]
  },
  {
   "cell_type": "code",
   "execution_count": 55,
   "id": "28981939",
   "metadata": {},
   "outputs": [
    {
     "data": {
      "text/plain": [
       "numpy.ndarray"
      ]
     },
     "execution_count": 55,
     "metadata": {},
     "output_type": "execute_result"
    }
   ],
   "source": [
    "type(check1)"
   ]
  },
  {
   "cell_type": "code",
   "execution_count": 64,
   "id": "53afd192",
   "metadata": {},
   "outputs": [
    {
     "data": {
      "text/plain": [
       "(3, 3, 3)"
      ]
     },
     "execution_count": 64,
     "metadata": {},
     "output_type": "execute_result"
    }
   ],
   "source": [
    "check3.shape"
   ]
  },
  {
   "cell_type": "markdown",
   "id": "ac2b93a3",
   "metadata": {},
   "source": [
    "often time with machine learning algorithm your main focus will be making sure the shape of your data that goes into machine learning algorithm lines up with the other data that you're putting in as well as the output we will see in fututre secion  \n",
    "\n",
    "#note axis = 0 refer to the number of rows axis = 1 refers to the number of column and the axis = n refers to the dimension that are beyond just rows and columns its very hard for us humans to visualise anything more than three dimesnions, but in numpy and with computer you could have as many ends as you want"
   ]
  },
  {
   "cell_type": "code",
   "execution_count": 66,
   "id": "95984c91",
   "metadata": {},
   "outputs": [
    {
     "data": {
      "text/plain": [
       "dtype('int32')"
      ]
     },
     "execution_count": 66,
     "metadata": {},
     "output_type": "execute_result"
    }
   ],
   "source": [
    "#shortform\n",
    "\n",
    "check3.dtype "
   ]
  },
  {
   "cell_type": "code",
   "execution_count": 67,
   "id": "eec31e61",
   "metadata": {},
   "outputs": [
    {
     "data": {
      "text/plain": [
       "(3, 3, 3)"
      ]
     },
     "execution_count": 67,
     "metadata": {},
     "output_type": "execute_result"
    }
   ],
   "source": [
    "check3.shape"
   ]
  },
  {
   "cell_type": "code",
   "execution_count": 68,
   "id": "bebb3fcf",
   "metadata": {},
   "outputs": [
    {
     "data": {
      "text/plain": [
       "numpy.ndarray"
      ]
     },
     "execution_count": 68,
     "metadata": {},
     "output_type": "execute_result"
    }
   ],
   "source": [
    "type(check1)"
   ]
  },
  {
   "cell_type": "code",
   "execution_count": 69,
   "id": "21c493b7",
   "metadata": {},
   "outputs": [
    {
     "data": {
      "text/plain": [
       "3"
      ]
     },
     "execution_count": 69,
     "metadata": {},
     "output_type": "execute_result"
    }
   ],
   "source": [
    "check3.ndim"
   ]
  },
  {
   "cell_type": "code",
   "execution_count": 70,
   "id": "33bb68ff",
   "metadata": {},
   "outputs": [
    {
     "data": {
      "text/plain": [
       "array([[[1, 3, 4],\n",
       "        [1, 3, 4],\n",
       "        [1, 3, 4]],\n",
       "\n",
       "       [[1, 3, 4],\n",
       "        [1, 3, 4],\n",
       "        [1, 3, 4]],\n",
       "\n",
       "       [[1, 3, 4],\n",
       "        [1, 3, 4],\n",
       "        [1, 3, 4]]])"
      ]
     },
     "execution_count": 70,
     "metadata": {},
     "output_type": "execute_result"
    }
   ],
   "source": [
    "check3"
   ]
  },
  {
   "cell_type": "code",
   "execution_count": 71,
   "id": "1d9e6830",
   "metadata": {},
   "outputs": [
    {
     "data": {
      "text/plain": [
       "27"
      ]
     },
     "execution_count": 71,
     "metadata": {},
     "output_type": "execute_result"
    }
   ],
   "source": [
    "check3.size"
   ]
  },
  {
   "cell_type": "code",
   "execution_count": 85,
   "id": "ad84c9d5",
   "metadata": {},
   "outputs": [],
   "source": [
    "t1 = np.array(\n",
    "   \n",
    "     [\n",
    "        [1 , 3 , 4] , \n",
    "         [1 , 3 , 4] , \n",
    "         [1 , 3 , 4] , \n",
    "    ]\n",
    "    \n",
    ")"
   ]
  },
  {
   "cell_type": "code",
   "execution_count": 83,
   "id": "922115f8",
   "metadata": {},
   "outputs": [],
   "source": [
    "import pandas as pd "
   ]
  },
  {
   "cell_type": "code",
   "execution_count": 86,
   "id": "434454a7",
   "metadata": {},
   "outputs": [
    {
     "data": {
      "text/html": [
       "<div>\n",
       "<style scoped>\n",
       "    .dataframe tbody tr th:only-of-type {\n",
       "        vertical-align: middle;\n",
       "    }\n",
       "\n",
       "    .dataframe tbody tr th {\n",
       "        vertical-align: top;\n",
       "    }\n",
       "\n",
       "    .dataframe thead th {\n",
       "        text-align: right;\n",
       "    }\n",
       "</style>\n",
       "<table border=\"1\" class=\"dataframe\">\n",
       "  <thead>\n",
       "    <tr style=\"text-align: right;\">\n",
       "      <th></th>\n",
       "      <th>0</th>\n",
       "      <th>1</th>\n",
       "      <th>2</th>\n",
       "    </tr>\n",
       "  </thead>\n",
       "  <tbody>\n",
       "    <tr>\n",
       "      <th>0</th>\n",
       "      <td>1</td>\n",
       "      <td>3</td>\n",
       "      <td>4</td>\n",
       "    </tr>\n",
       "    <tr>\n",
       "      <th>1</th>\n",
       "      <td>1</td>\n",
       "      <td>3</td>\n",
       "      <td>4</td>\n",
       "    </tr>\n",
       "    <tr>\n",
       "      <th>2</th>\n",
       "      <td>1</td>\n",
       "      <td>3</td>\n",
       "      <td>4</td>\n",
       "    </tr>\n",
       "  </tbody>\n",
       "</table>\n",
       "</div>"
      ],
      "text/plain": [
       "   0  1  2\n",
       "0  1  3  4\n",
       "1  1  3  4\n",
       "2  1  3  4"
      ]
     },
     "execution_count": 86,
     "metadata": {},
     "output_type": "execute_result"
    }
   ],
   "source": [
    "dataframe = pd.DataFrame(t1)\n",
    "dataframe"
   ]
  },
  {
   "cell_type": "code",
   "execution_count": null,
   "id": "b2ea822c",
   "metadata": {},
   "outputs": [],
   "source": []
  }
 ],
 "metadata": {
  "kernelspec": {
   "display_name": "Python 3 (ipykernel)",
   "language": "python",
   "name": "python3"
  },
  "language_info": {
   "codemirror_mode": {
    "name": "ipython",
    "version": 3
   },
   "file_extension": ".py",
   "mimetype": "text/x-python",
   "name": "python",
   "nbconvert_exporter": "python",
   "pygments_lexer": "ipython3",
   "version": "3.10.9"
  }
 },
 "nbformat": 4,
 "nbformat_minor": 5
}
