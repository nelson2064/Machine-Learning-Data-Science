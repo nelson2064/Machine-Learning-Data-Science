{
 "cells": [
  {
   "cell_type": "code",
   "execution_count": 1,
   "id": "4b98a460",
   "metadata": {},
   "outputs": [],
   "source": [
    "import numpy as np"
   ]
  },
  {
   "cell_type": "markdown",
   "id": "29e4e4cc",
   "metadata": {},
   "source": [
    "## DataTypes & Attributes "
   ]
  },
  {
   "cell_type": "code",
   "execution_count": 3,
   "id": "32531813",
   "metadata": {},
   "outputs": [
    {
     "data": {
      "text/plain": [
       "array([1, 2, 3])"
      ]
     },
     "execution_count": 3,
     "metadata": {},
     "output_type": "execute_result"
    }
   ],
   "source": [
    "# NumPy's main datatype is ndarray (n dimensional array) \n",
    "a1 = np.array([1 , 2 , 3 ])\n",
    "a1"
   ]
  },
  {
   "cell_type": "code",
   "execution_count": 4,
   "id": "55a09f2e",
   "metadata": {},
   "outputs": [
    {
     "data": {
      "text/plain": [
       "numpy.ndarray"
      ]
     },
     "execution_count": 4,
     "metadata": {},
     "output_type": "execute_result"
    }
   ],
   "source": [
    "type(a1)"
   ]
  },
  {
   "cell_type": "code",
   "execution_count": 30,
   "id": "20bca341",
   "metadata": {},
   "outputs": [],
   "source": [
    "a2 = np.array([[1 , 2.4 , 3],\n",
    "             [4 , 5 , 6.5]])\n",
    "\n",
    "a3 = np.array([[[1 , 3 , 3 ],\n",
    "               [3 , 5 , 6],\n",
    "               [3 , 5 , 6],\n",
    "                [3 , 5 , 6]],\n",
    "               \n",
    "              [[10 , 11 , 12],\n",
    "              [13 , 14 , 15],\n",
    "               [16 , 17 , 18],\n",
    "               [3 , 5 , 6]]])"
   ]
  },
  {
   "cell_type": "code",
   "execution_count": 31,
   "id": "145c6069",
   "metadata": {},
   "outputs": [
    {
     "data": {
      "text/plain": [
       "array([[1. , 2.4, 3. ],\n",
       "       [4. , 5. , 6.5]])"
      ]
     },
     "execution_count": 31,
     "metadata": {},
     "output_type": "execute_result"
    }
   ],
   "source": [
    "a2"
   ]
  },
  {
   "cell_type": "code",
   "execution_count": 7,
   "id": "be5f9645",
   "metadata": {},
   "outputs": [
    {
     "data": {
      "text/plain": [
       "array([[[ 1,  3,  3],\n",
       "        [ 3,  5,  6],\n",
       "        [ 3,  5,  6]],\n",
       "\n",
       "       [[10, 11, 12],\n",
       "        [13, 14, 15],\n",
       "        [16, 17, 18]]])"
      ]
     },
     "execution_count": 7,
     "metadata": {},
     "output_type": "execute_result"
    }
   ],
   "source": [
    "a3"
   ]
  },
  {
   "cell_type": "code",
   "execution_count": 8,
   "id": "41589d91",
   "metadata": {},
   "outputs": [
    {
     "data": {
      "text/plain": [
       "(3,)"
      ]
     },
     "execution_count": 8,
     "metadata": {},
     "output_type": "execute_result"
    }
   ],
   "source": [
    "a1.shape"
   ]
  },
  {
   "cell_type": "code",
   "execution_count": 9,
   "id": "381a7096",
   "metadata": {},
   "outputs": [
    {
     "data": {
      "text/plain": [
       "(2, 3)"
      ]
     },
     "execution_count": 9,
     "metadata": {},
     "output_type": "execute_result"
    }
   ],
   "source": [
    " a2.shape"
   ]
  },
  {
   "cell_type": "code",
   "execution_count": 10,
   "id": "dd447c8b",
   "metadata": {},
   "outputs": [
    {
     "data": {
      "text/plain": [
       "(2, 3, 3)"
      ]
     },
     "execution_count": 10,
     "metadata": {},
     "output_type": "execute_result"
    }
   ],
   "source": [
    "a3.shape"
   ]
  },
  {
   "cell_type": "code",
   "execution_count": 13,
   "id": "748803e1",
   "metadata": {},
   "outputs": [
    {
     "data": {
      "text/plain": [
       "1"
      ]
     },
     "execution_count": 13,
     "metadata": {},
     "output_type": "execute_result"
    }
   ],
   "source": [
    "a1.ndim"
   ]
  },
  {
   "cell_type": "code",
   "execution_count": 14,
   "id": "687f1d65",
   "metadata": {},
   "outputs": [
    {
     "data": {
      "text/plain": [
       "3"
      ]
     },
     "execution_count": 14,
     "metadata": {},
     "output_type": "execute_result"
    }
   ],
   "source": [
    "a3.ndim"
   ]
  },
  {
   "cell_type": "code",
   "execution_count": 15,
   "id": "7ac4dd65",
   "metadata": {},
   "outputs": [
    {
     "data": {
      "text/plain": [
       "2"
      ]
     },
     "execution_count": 15,
     "metadata": {},
     "output_type": "execute_result"
    }
   ],
   "source": [
    "a2.ndim"
   ]
  },
  {
   "cell_type": "code",
   "execution_count": 16,
   "id": "3e1b4073",
   "metadata": {},
   "outputs": [
    {
     "data": {
      "text/plain": [
       "(1, 2, 3)"
      ]
     },
     "execution_count": 16,
     "metadata": {},
     "output_type": "execute_result"
    }
   ],
   "source": [
    "a1.ndim , a2.ndim , a3.ndim"
   ]
  },
  {
   "cell_type": "markdown",
   "id": "a443512a",
   "metadata": {},
   "source": [
    "## whatever data you're working with, it somehow gets turned into numbers and then a machine learning algorithm will find patterns in these numbers "
   ]
  },
  {
   "cell_type": "code",
   "execution_count": 17,
   "id": "b382be8f",
   "metadata": {},
   "outputs": [
    {
     "data": {
      "text/plain": [
       "(dtype('int32'), dtype('float64'), dtype('int32'))"
      ]
     },
     "execution_count": 17,
     "metadata": {},
     "output_type": "execute_result"
    }
   ],
   "source": [
    "a1.dtype , a2.dtype , a3.dtype"
   ]
  },
  {
   "cell_type": "code",
   "execution_count": 18,
   "id": "643e5fbc",
   "metadata": {},
   "outputs": [
    {
     "data": {
      "text/plain": [
       "(3, 6, 18)"
      ]
     },
     "execution_count": 18,
     "metadata": {},
     "output_type": "execute_result"
    }
   ],
   "source": [
    "a1.size , a2.size , a3.size"
   ]
  },
  {
   "cell_type": "code",
   "execution_count": 19,
   "id": "e4152db0",
   "metadata": {},
   "outputs": [
    {
     "data": {
      "text/plain": [
       "(numpy.ndarray, numpy.ndarray, numpy.ndarray)"
      ]
     },
     "execution_count": 19,
     "metadata": {},
     "output_type": "execute_result"
    }
   ],
   "source": [
    "type(a1) , type(a2) , type(a3)"
   ]
  },
  {
   "cell_type": "code",
   "execution_count": 24,
   "id": "dfa5a150",
   "metadata": {},
   "outputs": [
    {
     "data": {
      "text/html": [
       "<div>\n",
       "<style scoped>\n",
       "    .dataframe tbody tr th:only-of-type {\n",
       "        vertical-align: middle;\n",
       "    }\n",
       "\n",
       "    .dataframe tbody tr th {\n",
       "        vertical-align: top;\n",
       "    }\n",
       "\n",
       "    .dataframe thead th {\n",
       "        text-align: right;\n",
       "    }\n",
       "</style>\n",
       "<table border=\"1\" class=\"dataframe\">\n",
       "  <thead>\n",
       "    <tr style=\"text-align: right;\">\n",
       "      <th></th>\n",
       "      <th>0</th>\n",
       "      <th>1</th>\n",
       "      <th>2</th>\n",
       "    </tr>\n",
       "  </thead>\n",
       "  <tbody>\n",
       "    <tr>\n",
       "      <th>0</th>\n",
       "      <td>1.0</td>\n",
       "      <td>2.4</td>\n",
       "      <td>3.0</td>\n",
       "    </tr>\n",
       "    <tr>\n",
       "      <th>1</th>\n",
       "      <td>4.0</td>\n",
       "      <td>5.0</td>\n",
       "      <td>6.5</td>\n",
       "    </tr>\n",
       "  </tbody>\n",
       "</table>\n",
       "</div>"
      ],
      "text/plain": [
       "     0    1    2\n",
       "0  1.0  2.4  3.0\n",
       "1  4.0  5.0  6.5"
      ]
     },
     "execution_count": 24,
     "metadata": {},
     "output_type": "execute_result"
    }
   ],
   "source": [
    "#so now to really exemplify Numpy being the backbone of other scientific data packages, that is  let's \n",
    "#create a dataframe form a NumPy array\n",
    "import pandas as pd\n",
    "df = pd.DataFrame(a2)\n",
    "df"
   ]
  },
  {
   "cell_type": "markdown",
   "id": "3ecebc11",
   "metadata": {},
   "source": [
    "So this is a pandas dataframe and this is our numpy array.\n",
    "‫So essentially, no matter what's in our pandas dataframe, if it's all numbers, pandas is built on\n",
    "‫top of numpy\n",
    "‫So to represent our data as a data frame, it's just combining NumPy arrays in a formatted way.\n",
    "‫So that's a very important point to remember as well, is that once we start to get into the weeds of\n",
    "NumPy and start to work out what kind of numerical computing it can do, we can start to think, okay,"
   ]
  },
  {
   "cell_type": "markdown",
   "id": "464357d3",
   "metadata": {},
   "source": [
    "so if we have some data and we import it in PANDAS, it's actually just a different combination umpire\n",
    "‫raise.\n",
    "‫So if we want to perform some manipulations on it, we're actually just performing manipulations on\n",
    "‫different lists of numbers.\n",
    "‫All right.\n",
    "‫That's a brief introduction to NumPy, his main data type.\n",
    "‫That's the main thing to take away from this is that Andhra, whatever array you have in numpy is of\n",
    "‫type NDI array and that pandas and other machine learning algorithm packages are built on top of numpy\n",
    "‫and machine learning is finding patterns in numpy arrays.\n",
    "‫So with that being said, let's take a little break.\n",
    "‫If you need to go back and explore, create an array of your own by trialing it out.\n",
    "‫If in doubt, run the code and I'll see you in the next video.\n",
    "\n"
   ]
  },
  {
   "cell_type": "markdown",
   "id": "d9bf30f0",
   "metadata": {},
   "source": [
    "so if we have some data and we import it in PANDAS, it's actually just a different combination umpire\n",
    "‫raise.\n",
    "‫So if we want to perform some manipulations on it, we're actually just performing manipulations on\n",
    "‫different lists of numbers.\n",
    "‫All right.\n",
    "‫That's a brief introduction to NumPy, his main data type.\n",
    "‫That's the main thing to take away from this is that Andhra, whatever array you have in numpy is of\n",
    "‫type NDI array and that pandas and other machine learning algorithm packages are built on top of numpy\n",
    "‫and machine learning is finding patterns in numpy arrays.\n",
    "‫So with that being said, let's take a little break.\n",
    "‫If you need to go back and explore, create an array of your own by trialing it out.\n",
    "‫If in doubt, run the code and I'll see you in the next video.\n"
   ]
  },
  {
   "cell_type": "markdown",
   "id": "1bcabaf7",
   "metadata": {},
   "source": [
    "NumPy is called the \"backbone\" of the scientific Python ecosystem because it provides a powerful and efficient array object that forms the foundation for a wide variety of other libraries, including pandas, scikit-learn, and Matplotlib. These libraries build on top of the functionality provided by NumPy to provide powerful tools for data manipulation, analysis, and visualization. The array object in NumPy allows for fast, vectorized operations and is highly optimized for performance, making it well-suited for large-scale data processing and scientific computing tasks."
   ]
  },
  {
   "cell_type": "markdown",
   "id": "f4162167",
   "metadata": {},
   "source": [
    "In my previous answer, when I said \"NumPy provides a powerful and efficient array object that forms the foundation for a wide variety of other libraries,\" I meant that the array object in NumPy is used as the basis for many other libraries in the scientific Python ecosystem. These other libraries build on top of the functionality provided by NumPy to provide additional features and tools for data manipulation, analysis, and visualization. For example, pandas uses NumPy arrays as the underlying data structure for its DataFrame and Series objects, which provide additional methods for working with data in a tabular format. Similarly, scikit-learn uses NumPy arrays as the input for its machine learning algorithms, and Matplotlib uses NumPy arrays to represent and manipulate data for plotting and visualization. In short, NumPy is an important and widely used library that provides a powerful array object that is used as a foundation for many other libraries in the scientific Python ecosystem."
   ]
  },
  {
   "cell_type": "markdown",
   "id": "768db0fc",
   "metadata": {},
   "source": [
    "Yes, that's correct. The \"ndarray,\" or \"n-dimensional array,\" is the main data structure provided by NumPy and is used to store and manipulate large arrays of homogeneous data (i.e., data of the same type, such as integers or floating-point numbers). The \"n\" in \"ndarray\" refers to the fact that these arrays can have any number of dimensions, not just one or two as in traditional arrays. The ndarray is a universal array meaning it can handle a wide variety of data types, such as integers, floating-point numbers, and complex numbers, and can be used for a wide range of tasks, including mathematical and statistical operations, linear algebra, and data manipulation and transformation. The ndarray is highly optimized for performance, making it well-suited for large-scale data processing and scientific computing tasks."
   ]
  },
  {
   "cell_type": "markdown",
   "id": "9da60115",
   "metadata": {},
   "source": [
    "##Anatomy of NumPy array"
   ]
  },
  {
   "cell_type": "code",
   "execution_count": 48,
   "id": "fd1a0d15",
   "metadata": {},
   "outputs": [],
   "source": [
    "check1 = np.array([1 , 2 , 3])"
   ]
  },
  {
   "cell_type": "code",
   "execution_count": 49,
   "id": "a329ea9d",
   "metadata": {},
   "outputs": [
    {
     "data": {
      "text/plain": [
       "1"
      ]
     },
     "execution_count": 49,
     "metadata": {},
     "output_type": "execute_result"
    }
   ],
   "source": [
    "check1.ndim"
   ]
  },
  {
   "cell_type": "code",
   "execution_count": 50,
   "id": "d208b661",
   "metadata": {},
   "outputs": [],
   "source": [
    "check2 = np.array([[1 , 2 , 4],\n",
    "                  [3 , 5 ,5],\n",
    "                  [4 , 5 ,5]])"
   ]
  },
  {
   "cell_type": "code",
   "execution_count": 51,
   "id": "da3e4a01",
   "metadata": {},
   "outputs": [
    {
     "data": {
      "text/plain": [
       "2"
      ]
     },
     "execution_count": 51,
     "metadata": {},
     "output_type": "execute_result"
    }
   ],
   "source": [
    "check2.ndim"
   ]
  },
  {
   "cell_type": "code",
   "execution_count": 57,
   "id": "b31be7f1",
   "metadata": {},
   "outputs": [],
   "source": [
    "\n",
    "\n",
    "check3 = np.array([\n",
    "    [\n",
    "        [1 , 3 , 4],\n",
    "         [1 , 3 , 4],\n",
    "         [1 , 3 , 4]\n",
    "    ],\n",
    "     [\n",
    "        [1 , 3 , 4],\n",
    "         [1 , 3 , 4],\n",
    "         [1 , 3 , 4]\n",
    "    ],\n",
    "     [\n",
    "        [1 , 3 , 4],\n",
    "         [1 , 3 , 4],\n",
    "         [1 , 3 , 4]\n",
    "    ],\n",
    "      [\n",
    "        [1 , 3 , 4],\n",
    "         [1 , 3 , 4],\n",
    "         [1 , 3 , 4]\n",
    "    ]\n",
    "    \n",
    "])"
   ]
  },
  {
   "cell_type": "code",
   "execution_count": 62,
   "id": "db5b56da",
   "metadata": {},
   "outputs": [
    {
     "data": {
      "text/plain": [
       "3"
      ]
     },
     "execution_count": 62,
     "metadata": {},
     "output_type": "execute_result"
    }
   ],
   "source": [
    "check3.ndim"
   ]
  },
  {
   "cell_type": "code",
   "execution_count": 55,
   "id": "7609bbc4",
   "metadata": {},
   "outputs": [
    {
     "data": {
      "text/plain": [
       "numpy.ndarray"
      ]
     },
     "execution_count": 55,
     "metadata": {},
     "output_type": "execute_result"
    }
   ],
   "source": [
    "type(check1)"
   ]
  },
  {
   "cell_type": "code",
   "execution_count": 64,
   "id": "71141905",
   "metadata": {},
   "outputs": [
    {
     "data": {
      "text/plain": [
       "(3, 3, 3)"
      ]
     },
     "execution_count": 64,
     "metadata": {},
     "output_type": "execute_result"
    }
   ],
   "source": [
    "check3.shape"
   ]
  },
  {
   "cell_type": "markdown",
   "id": "a2a09bf7",
   "metadata": {},
   "source": [
    "often time with machine learning algorithm your main focus will be making sure the shape of your data that goes into machine learning algorithm lines up with the other data that you're putting in as well as the output we will see in fututre secion  \n",
    "\n",
    "#note axis = 0 refer to the number of rows axis = 1 refers to the number of column and the axis = n refers to the dimension that are beyond just rows and columns its very hard for us humans to visualise anything more than three dimesnions, but in numpy and with computer you could have as many ends as you want"
   ]
  },
  {
   "cell_type": "code",
   "execution_count": 66,
   "id": "04d5ee8d",
   "metadata": {},
   "outputs": [
    {
     "data": {
      "text/plain": [
       "dtype('int32')"
      ]
     },
     "execution_count": 66,
     "metadata": {},
     "output_type": "execute_result"
    }
   ],
   "source": [
    "#shortform\n",
    "\n",
    "check3.dtype "
   ]
  },
  {
   "cell_type": "code",
   "execution_count": 67,
   "id": "adbea24d",
   "metadata": {},
   "outputs": [
    {
     "data": {
      "text/plain": [
       "(3, 3, 3)"
      ]
     },
     "execution_count": 67,
     "metadata": {},
     "output_type": "execute_result"
    }
   ],
   "source": [
    "check3.shape"
   ]
  },
  {
   "cell_type": "code",
   "execution_count": 68,
   "id": "f3b7fe6d",
   "metadata": {},
   "outputs": [
    {
     "data": {
      "text/plain": [
       "numpy.ndarray"
      ]
     },
     "execution_count": 68,
     "metadata": {},
     "output_type": "execute_result"
    }
   ],
   "source": [
    "type(check1)"
   ]
  },
  {
   "cell_type": "code",
   "execution_count": 69,
   "id": "bc003643",
   "metadata": {},
   "outputs": [
    {
     "data": {
      "text/plain": [
       "3"
      ]
     },
     "execution_count": 69,
     "metadata": {},
     "output_type": "execute_result"
    }
   ],
   "source": [
    "check3.ndim"
   ]
  },
  {
   "cell_type": "code",
   "execution_count": 70,
   "id": "1ce857d1",
   "metadata": {},
   "outputs": [
    {
     "data": {
      "text/plain": [
       "array([[[1, 3, 4],\n",
       "        [1, 3, 4],\n",
       "        [1, 3, 4]],\n",
       "\n",
       "       [[1, 3, 4],\n",
       "        [1, 3, 4],\n",
       "        [1, 3, 4]],\n",
       "\n",
       "       [[1, 3, 4],\n",
       "        [1, 3, 4],\n",
       "        [1, 3, 4]]])"
      ]
     },
     "execution_count": 70,
     "metadata": {},
     "output_type": "execute_result"
    }
   ],
   "source": [
    "check3"
   ]
  },
  {
   "cell_type": "code",
   "execution_count": 71,
   "id": "4a81024b",
   "metadata": {},
   "outputs": [
    {
     "data": {
      "text/plain": [
       "27"
      ]
     },
     "execution_count": 71,
     "metadata": {},
     "output_type": "execute_result"
    }
   ],
   "source": [
    "check3.size"
   ]
  },
  {
   "cell_type": "code",
   "execution_count": 79,
   "id": "6e161d0e",
   "metadata": {},
   "outputs": [
    {
     "ename": "ValueError",
     "evalue": "Must pass 2-d input. shape=(3, 3, 3)",
     "output_type": "error",
     "traceback": [
      "\u001b[1;31m---------------------------------------------------------------------------\u001b[0m",
      "\u001b[1;31mValueError\u001b[0m                                Traceback (most recent call last)",
      "Cell \u001b[1;32mIn[79], line 3\u001b[0m\n\u001b[0;32m      1\u001b[0m \u001b[38;5;66;03m#create a dataframe from anumpy array\u001b[39;00m\n\u001b[0;32m      2\u001b[0m \u001b[38;5;28;01mimport\u001b[39;00m \u001b[38;5;21;01mpandas\u001b[39;00m \u001b[38;5;28;01mas\u001b[39;00m \u001b[38;5;21;01mpd\u001b[39;00m\n\u001b[1;32m----> 3\u001b[0m df \u001b[38;5;241m=\u001b[39m \u001b[43mpd\u001b[49m\u001b[38;5;241;43m.\u001b[39;49m\u001b[43mDataFrame\u001b[49m\u001b[43m(\u001b[49m\u001b[43mcheck3\u001b[49m\u001b[43m)\u001b[49m\n\u001b[0;32m      4\u001b[0m df\n",
      "File \u001b[1;32m~\\Desktop\\sample_project_1\\env\\lib\\site-packages\\pandas\\core\\frame.py:721\u001b[0m, in \u001b[0;36mDataFrame.__init__\u001b[1;34m(self, data, index, columns, dtype, copy)\u001b[0m\n\u001b[0;32m    711\u001b[0m         mgr \u001b[38;5;241m=\u001b[39m dict_to_mgr(\n\u001b[0;32m    712\u001b[0m             \u001b[38;5;66;03m# error: Item \"ndarray\" of \"Union[ndarray, Series, Index]\" has no\u001b[39;00m\n\u001b[0;32m    713\u001b[0m             \u001b[38;5;66;03m# attribute \"name\"\u001b[39;00m\n\u001b[1;32m   (...)\u001b[0m\n\u001b[0;32m    718\u001b[0m             typ\u001b[38;5;241m=\u001b[39mmanager,\n\u001b[0;32m    719\u001b[0m         )\n\u001b[0;32m    720\u001b[0m     \u001b[38;5;28;01melse\u001b[39;00m:\n\u001b[1;32m--> 721\u001b[0m         mgr \u001b[38;5;241m=\u001b[39m \u001b[43mndarray_to_mgr\u001b[49m\u001b[43m(\u001b[49m\n\u001b[0;32m    722\u001b[0m \u001b[43m            \u001b[49m\u001b[43mdata\u001b[49m\u001b[43m,\u001b[49m\n\u001b[0;32m    723\u001b[0m \u001b[43m            \u001b[49m\u001b[43mindex\u001b[49m\u001b[43m,\u001b[49m\n\u001b[0;32m    724\u001b[0m \u001b[43m            \u001b[49m\u001b[43mcolumns\u001b[49m\u001b[43m,\u001b[49m\n\u001b[0;32m    725\u001b[0m \u001b[43m            \u001b[49m\u001b[43mdtype\u001b[49m\u001b[38;5;241;43m=\u001b[39;49m\u001b[43mdtype\u001b[49m\u001b[43m,\u001b[49m\n\u001b[0;32m    726\u001b[0m \u001b[43m            \u001b[49m\u001b[43mcopy\u001b[49m\u001b[38;5;241;43m=\u001b[39;49m\u001b[43mcopy\u001b[49m\u001b[43m,\u001b[49m\n\u001b[0;32m    727\u001b[0m \u001b[43m            \u001b[49m\u001b[43mtyp\u001b[49m\u001b[38;5;241;43m=\u001b[39;49m\u001b[43mmanager\u001b[49m\u001b[43m,\u001b[49m\n\u001b[0;32m    728\u001b[0m \u001b[43m        \u001b[49m\u001b[43m)\u001b[49m\n\u001b[0;32m    730\u001b[0m \u001b[38;5;66;03m# For data is list-like, or Iterable (will consume into list)\u001b[39;00m\n\u001b[0;32m    731\u001b[0m \u001b[38;5;28;01melif\u001b[39;00m is_list_like(data):\n",
      "File \u001b[1;32m~\\Desktop\\sample_project_1\\env\\lib\\site-packages\\pandas\\core\\internals\\construction.py:329\u001b[0m, in \u001b[0;36mndarray_to_mgr\u001b[1;34m(values, index, columns, dtype, copy, typ)\u001b[0m\n\u001b[0;32m    324\u001b[0m         values \u001b[38;5;241m=\u001b[39m values\u001b[38;5;241m.\u001b[39mreshape(\u001b[38;5;241m-\u001b[39m\u001b[38;5;241m1\u001b[39m, \u001b[38;5;241m1\u001b[39m)\n\u001b[0;32m    326\u001b[0m \u001b[38;5;28;01melse\u001b[39;00m:\n\u001b[0;32m    327\u001b[0m     \u001b[38;5;66;03m# by definition an array here\u001b[39;00m\n\u001b[0;32m    328\u001b[0m     \u001b[38;5;66;03m# the dtypes will be coerced to a single dtype\u001b[39;00m\n\u001b[1;32m--> 329\u001b[0m     values \u001b[38;5;241m=\u001b[39m \u001b[43m_prep_ndarraylike\u001b[49m\u001b[43m(\u001b[49m\u001b[43mvalues\u001b[49m\u001b[43m,\u001b[49m\u001b[43m \u001b[49m\u001b[43mcopy\u001b[49m\u001b[38;5;241;43m=\u001b[39;49m\u001b[43mcopy_on_sanitize\u001b[49m\u001b[43m)\u001b[49m\n\u001b[0;32m    331\u001b[0m \u001b[38;5;28;01mif\u001b[39;00m dtype \u001b[38;5;129;01mis\u001b[39;00m \u001b[38;5;129;01mnot\u001b[39;00m \u001b[38;5;28;01mNone\u001b[39;00m \u001b[38;5;129;01mand\u001b[39;00m \u001b[38;5;129;01mnot\u001b[39;00m is_dtype_equal(values\u001b[38;5;241m.\u001b[39mdtype, dtype):\n\u001b[0;32m    332\u001b[0m     \u001b[38;5;66;03m# GH#40110 see similar check inside sanitize_array\u001b[39;00m\n\u001b[0;32m    333\u001b[0m     rcf \u001b[38;5;241m=\u001b[39m \u001b[38;5;129;01mnot\u001b[39;00m (is_integer_dtype(dtype) \u001b[38;5;129;01mand\u001b[39;00m values\u001b[38;5;241m.\u001b[39mdtype\u001b[38;5;241m.\u001b[39mkind \u001b[38;5;241m==\u001b[39m \u001b[38;5;124m\"\u001b[39m\u001b[38;5;124mf\u001b[39m\u001b[38;5;124m\"\u001b[39m)\n",
      "File \u001b[1;32m~\\Desktop\\sample_project_1\\env\\lib\\site-packages\\pandas\\core\\internals\\construction.py:583\u001b[0m, in \u001b[0;36m_prep_ndarraylike\u001b[1;34m(values, copy)\u001b[0m\n\u001b[0;32m    581\u001b[0m     values \u001b[38;5;241m=\u001b[39m values\u001b[38;5;241m.\u001b[39mreshape((values\u001b[38;5;241m.\u001b[39mshape[\u001b[38;5;241m0\u001b[39m], \u001b[38;5;241m1\u001b[39m))\n\u001b[0;32m    582\u001b[0m \u001b[38;5;28;01melif\u001b[39;00m values\u001b[38;5;241m.\u001b[39mndim \u001b[38;5;241m!=\u001b[39m \u001b[38;5;241m2\u001b[39m:\n\u001b[1;32m--> 583\u001b[0m     \u001b[38;5;28;01mraise\u001b[39;00m \u001b[38;5;167;01mValueError\u001b[39;00m(\u001b[38;5;124mf\u001b[39m\u001b[38;5;124m\"\u001b[39m\u001b[38;5;124mMust pass 2-d input. shape=\u001b[39m\u001b[38;5;132;01m{\u001b[39;00mvalues\u001b[38;5;241m.\u001b[39mshape\u001b[38;5;132;01m}\u001b[39;00m\u001b[38;5;124m\"\u001b[39m)\n\u001b[0;32m    585\u001b[0m \u001b[38;5;28;01mreturn\u001b[39;00m values\n",
      "\u001b[1;31mValueError\u001b[0m: Must pass 2-d input. shape=(3, 3, 3)"
     ]
    }
   ],
   "source": [
    "#create a dataframe from anumpy array\n",
    "import pandas as pd\n",
    "df = pd.DataFrame(check3)\n",
    "df"
   ]
  },
  {
   "cell_type": "code",
   "execution_count": null,
   "id": "3fdeafb0",
   "metadata": {},
   "outputs": [],
   "source": []
  }
 ],
 "metadata": {
  "kernelspec": {
   "display_name": "Python 3 (ipykernel)",
   "language": "python",
   "name": "python3"
  },
  "language_info": {
   "codemirror_mode": {
    "name": "ipython",
    "version": 3
   },
   "file_extension": ".py",
   "mimetype": "text/x-python",
   "name": "python",
   "nbconvert_exporter": "python",
   "pygments_lexer": "ipython3",
   "version": "3.10.9"
  }
 },
 "nbformat": 4,
 "nbformat_minor": 5
}
