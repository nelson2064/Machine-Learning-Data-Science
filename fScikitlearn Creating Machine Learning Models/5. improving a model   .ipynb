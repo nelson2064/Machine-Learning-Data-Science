{
 "cells": [
  {
   "cell_type": "markdown",
   "id": "a2f9f72a",
   "metadata": {},
   "source": [
    "## 5. Improving a model\n",
    "\n",
    "First predictons = baseline predictions.\n",
    "First model = baseline model.\n",
    "\n",
    "From a data perspective:\n",
    "* Could we collect more data? (generally , the more data , the better)\n",
    "* could we improve our data ?\n",
    "\n",
    "From a model perspectives\n",
    "* is there"
   ]
  },
  {
   "cell_type": "code",
   "execution_count": null,
   "id": "561dfb66",
   "metadata": {},
   "outputs": [],
   "source": []
  }
 ],
 "metadata": {
  "kernelspec": {
   "display_name": "Python 3 (ipykernel)",
   "language": "python",
   "name": "python3"
  },
  "language_info": {
   "codemirror_mode": {
    "name": "ipython",
    "version": 3
   },
   "file_extension": ".py",
   "mimetype": "text/x-python",
   "name": "python",
   "nbconvert_exporter": "python",
   "pygments_lexer": "ipython3",
   "version": "3.10.9"
  }
 },
 "nbformat": 4,
 "nbformat_minor": 5
}
